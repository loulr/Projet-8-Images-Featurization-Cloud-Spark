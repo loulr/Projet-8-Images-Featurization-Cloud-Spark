{
 "cells": [
  {
   "cell_type": "markdown",
   "id": "71fe8238",
   "metadata": {
    "toc": true
   },
   "source": [
    "<h1>Table of Contents<span class=\"tocSkip\"></span></h1>\n",
    "<div class=\"toc\"><ul class=\"toc-item\"><li><span><a href=\"#Files-on-DBFS/FileStore-Databricks\" data-toc-modified-id=\"Files-on-DBFS/FileStore-Databricks-1\"><span class=\"toc-item-num\">1&nbsp;&nbsp;</span>Files on DBFS/FileStore Databricks</a></span></li><li><span><a href=\"#Images-Features-Extraction-+-Scaling-&amp;-PCA-Reduction\" data-toc-modified-id=\"Images-Features-Extraction-+-Scaling-&amp;-PCA-Reduction-2\"><span class=\"toc-item-num\">2&nbsp;&nbsp;</span>Images Features Extraction + Scaling &amp; PCA Reduction</a></span><ul class=\"toc-item\"><li><span><a href=\"#Spark-Initialization\" data-toc-modified-id=\"Spark-Initialization-2.1\"><span class=\"toc-item-num\">2.1&nbsp;&nbsp;</span>Spark Initialization</a></span></li><li><span><a href=\"#Images-loading\" data-toc-modified-id=\"Images-loading-2.2\"><span class=\"toc-item-num\">2.2&nbsp;&nbsp;</span>Images loading</a></span></li><li><span><a href=\"#Visualization-of-images-and-preprocessing\" data-toc-modified-id=\"Visualization-of-images-and-preprocessing-2.3\"><span class=\"toc-item-num\">2.3&nbsp;&nbsp;</span>Visualization of images and preprocessing</a></span></li><li><span><a href=\"#Featurization-of-images-with-transfer-learning\" data-toc-modified-id=\"Featurization-of-images-with-transfer-learning-2.4\"><span class=\"toc-item-num\">2.4&nbsp;&nbsp;</span>Featurization of images with transfer learning</a></span></li><li><span><a href=\"#Scaler\" data-toc-modified-id=\"Scaler-2.5\"><span class=\"toc-item-num\">2.5&nbsp;&nbsp;</span>Scaler</a></span></li><li><span><a href=\"#PCA\" data-toc-modified-id=\"PCA-2.6\"><span class=\"toc-item-num\">2.6&nbsp;&nbsp;</span>PCA</a></span></li><li><span><a href=\"#Export-des-résultats\" data-toc-modified-id=\"Export-des-résultats-2.7\"><span class=\"toc-item-num\">2.7&nbsp;&nbsp;</span>Export des résultats</a></span></li></ul></li></ul></div>"
   ]
  },
  {
   "cell_type": "markdown",
   "id": "2beb4c27",
   "metadata": {},
   "source": [
    "# Files on DBFS/FileStore Databricks"
   ]
  },
  {
   "cell_type": "code",
   "execution_count": null,
   "id": "c77dc9a3",
   "metadata": {},
   "outputs": [],
   "source": [
    "# Drop files on online stockage server S3 via databricks\n",
    "display(dbutils.fs.ls(\"/FileStore/tables\"))"
   ]
  },
  {
   "cell_type": "code",
   "execution_count": null,
   "id": "08862a15",
   "metadata": {},
   "outputs": [],
   "source": [
    "# Unzip files into fruits_360\n",
    "%sh\n",
    "unzip /dbfs/FileStore/tables/fruits_360.zip -d /fruits_360"
   ]
  },
  {
   "cell_type": "code",
   "execution_count": null,
   "id": "920e94f5",
   "metadata": {},
   "outputs": [],
   "source": [
    "# Show unzipped files on local server\n",
    "display(dbutils.fs.ls(\"file:/fruits_360/fruits-360\"))"
   ]
  },
  {
   "cell_type": "code",
   "execution_count": null,
   "id": "03cfd99c",
   "metadata": {},
   "outputs": [],
   "source": [
    "# Move them to FileStore in order to be able to use them trough Databricks interface\n",
    "dbutils.fs.mv(\"file:/fruits_360/fruits-360\", \"/FileStore/tables\", recurse=True)"
   ]
  },
  {
   "cell_type": "code",
   "execution_count": null,
   "id": "4d921914",
   "metadata": {},
   "outputs": [],
   "source": [
    "# Example \n",
    "display(dbutils.fs.ls(\"/FileStore/tables/Training/Walnut\"))"
   ]
  },
  {
   "cell_type": "markdown",
   "id": "f32ba803",
   "metadata": {},
   "source": [
    "# Images Features Extraction + Scaling & PCA Reduction\n",
    "## Spark Initialization"
   ]
  },
  {
   "cell_type": "code",
   "execution_count": 1,
   "id": "1673ccf6",
   "metadata": {
    "ExecuteTime": {
     "end_time": "2022-02-22T16:10:37.127254Z",
     "start_time": "2022-02-22T16:10:31.884006Z"
    }
   },
   "outputs": [
    {
     "name": "stderr",
     "output_type": "stream",
     "text": [
      "22/02/22 17:10:33 WARN Utils: Your hostname, MacBook-Pro-de-Louis.local resolves to a loopback address: 127.0.0.1; using 192.168.0.11 instead (on interface en0)\n",
      "22/02/22 17:10:33 WARN Utils: Set SPARK_LOCAL_IP if you need to bind to another address\n",
      "Using Spark's default log4j profile: org/apache/spark/log4j-defaults.properties\n",
      "Setting default log level to \"WARN\".\n",
      "To adjust logging level use sc.setLogLevel(newLevel). For SparkR, use setLogLevel(newLevel).\n",
      "22/02/22 17:10:34 WARN NativeCodeLoader: Unable to load native-hadoop library for your platform... using builtin-java classes where applicable\n"
     ]
    }
   ],
   "source": [
    "from pyspark.context import SparkContext\n",
    "from pyspark.sql.session import SparkSession\n",
    "\n",
    "spark = SparkSession.builder \\\n",
    "    .master('local[*]') \\\n",
    "    .config(\"spark.driver.memory\", \"4g\") \\\n",
    "    .appName('projet-8') \\\n",
    "    .getOrCreate()"
   ]
  },
  {
   "cell_type": "code",
   "execution_count": 2,
   "id": "111b653e",
   "metadata": {
    "ExecuteTime": {
     "end_time": "2022-02-22T16:10:42.379591Z",
     "start_time": "2022-02-22T16:10:42.347135Z"
    }
   },
   "outputs": [
    {
     "data": {
      "text/html": [
       "\n",
       "            <div>\n",
       "                <p><b>SparkSession - in-memory</b></p>\n",
       "                \n",
       "        <div>\n",
       "            <p><b>SparkContext</b></p>\n",
       "\n",
       "            <p><a href=\"http://192.168.0.11:4040\">Spark UI</a></p>\n",
       "\n",
       "            <dl>\n",
       "              <dt>Version</dt>\n",
       "                <dd><code>v3.2.1</code></dd>\n",
       "              <dt>Master</dt>\n",
       "                <dd><code>local[*]</code></dd>\n",
       "              <dt>AppName</dt>\n",
       "                <dd><code>projet-8</code></dd>\n",
       "            </dl>\n",
       "        </div>\n",
       "        \n",
       "            </div>\n",
       "        "
      ],
      "text/plain": [
       "<pyspark.sql.session.SparkSession at 0x1127a2820>"
      ]
     },
     "execution_count": 2,
     "metadata": {},
     "output_type": "execute_result"
    }
   ],
   "source": [
    "spark"
   ]
  },
  {
   "cell_type": "code",
   "execution_count": 3,
   "id": "d3f4c55c",
   "metadata": {
    "ExecuteTime": {
     "end_time": "2022-02-22T16:10:48.701398Z",
     "start_time": "2022-02-22T16:10:44.461034Z"
    }
   },
   "outputs": [],
   "source": [
    "# Importation des librairies\n",
    "\n",
    "import numpy as np\n",
    "import pandas as pd\n",
    "import matplotlib.pyplot as plt\n",
    "import seaborn as sns\n",
    "from sklearn.preprocessing import StandardScaler\n",
    "from sklearn.metrics import confusion_matrix, classification_report\n",
    "import statistics\n",
    "import os\n",
    "import random\n",
    "from os import listdir, walk\n",
    "from IPython.display import Image\n",
    "from PIL import Image as Image_PIL\n",
    "from PIL import ImageFilter\n",
    "from matplotlib.image import imread\n",
    "from matplotlib.pyplot import imshow\n",
    "import cv2\n",
    "import keras\n",
    "from skimage.color import rgba2rgb\n",
    "from skimage import img_as_ubyte\n",
    "\n",
    "%matplotlib inline\n",
    "\n",
    "pd.set_option('display.max_columns', 50)\n",
    "pd.set_option('display.max_rows', 50)\n",
    "pd.set_option('display.max_colwidth', 50)\n",
    "pd.options.mode.chained_assignment = None  # default='warn'"
   ]
  },
  {
   "cell_type": "code",
   "execution_count": 4,
   "id": "f97d8160",
   "metadata": {
    "ExecuteTime": {
     "end_time": "2022-02-22T16:10:48.772998Z",
     "start_time": "2022-02-22T16:10:48.702386Z"
    }
   },
   "outputs": [],
   "source": [
    "import pandas as pd\n",
    "from PIL import Image\n",
    "import numpy as np\n",
    "import io\n",
    "\n",
    "import tensorflow as tf\n",
    "from tensorflow.keras.applications.resnet50 import ResNet50, preprocess_input\n",
    "from tensorflow.keras.preprocessing.image import img_to_array\n",
    "\n",
    "from pyspark.sql.functions import col, pandas_udf, PandasUDFType, split, udf\n",
    "\n",
    "from pyspark.ml.linalg import Vectors, VectorUDT"
   ]
  },
  {
   "cell_type": "markdown",
   "id": "8aa853e6",
   "metadata": {},
   "source": [
    "## Images loading"
   ]
  },
  {
   "cell_type": "code",
   "execution_count": 5,
   "id": "706dcd46",
   "metadata": {
    "ExecuteTime": {
     "end_time": "2022-02-22T16:10:50.554345Z",
     "start_time": "2022-02-22T16:10:50.551529Z"
    }
   },
   "outputs": [],
   "source": [
    "# Local\n",
    "path = \"/Users/louisrageot/Desktop/OC DS/Projet 8 - Déployez une application sur le cloud/Livrables.nosync/archive/fruits-360_dataset/fruits-360/\"\n",
    "dataset = 'Training/EXTRACT/'\n",
    "\n",
    "# Cloud\n",
    "#path = \"/FileStore/tables\"\n",
    "#dataset = \"/Training\""
   ]
  },
  {
   "cell_type": "code",
   "execution_count": 7,
   "id": "4c7ddcf9",
   "metadata": {
    "ExecuteTime": {
     "end_time": "2022-02-22T16:11:11.504772Z",
     "start_time": "2022-02-22T16:11:10.403743Z"
    }
   },
   "outputs": [
    {
     "name": "stdout",
     "output_type": "stream",
     "text": [
      "+--------------------+-------------------+------+--------------------+------------------+\n",
      "|                path|   modificationTime|length|             content|             fruit|\n",
      "+--------------------+-------------------+------+--------------------+------------------+\n",
      "|file:/Users/louis...|2021-09-12 19:27:02|  5634|[FF D8 FF E0 00 1...|  Strawberry Wedge|\n",
      "|file:/Users/louis...|2021-09-12 19:27:02|  4959|[FF D8 FF E0 00 1...|  Strawberry Wedge|\n",
      "|file:/Users/louis...|2021-09-12 19:26:40|  4729|[FF D8 FF E0 00 1...|     Passion Fruit|\n",
      "|file:/Users/louis...|2021-09-12 19:26:00|  4496|[FF D8 FF E0 00 1...|          Cherry 1|\n",
      "|file:/Users/louis...|2021-09-12 19:26:20|  4466|[FF D8 FF E0 00 1...|             Lemon|\n",
      "|file:/Users/louis...|2021-09-12 19:26:40|  4461|[FF D8 FF E0 00 1...|     Passion Fruit|\n",
      "|file:/Users/louis...|2021-09-12 19:26:20|  4295|[FF D8 FF E0 00 1...|             Lemon|\n",
      "|file:/Users/louis...|2021-09-12 19:25:46|  4110|[FF D8 FF E0 00 1...|Apple Granny Smith|\n",
      "|file:/Users/louis...|2021-09-12 19:25:46|  4038|[FF D8 FF E0 00 1...|Apple Granny Smith|\n",
      "|file:/Users/louis...|2021-09-12 19:26:12|  3818|[FF D8 FF E0 00 1...|        Grape Blue|\n",
      "|file:/Users/louis...|2021-09-12 19:26:02|  3815|[FF D8 FF E0 00 1...|          Cherry 1|\n",
      "|file:/Users/louis...|2021-09-12 19:26:10|  3702|[FF D8 FF E0 00 1...|        Grape Blue|\n",
      "|file:/Users/louis...|2021-09-12 19:25:56|  3643|[FF D8 FF E0 00 1...|            Banana|\n",
      "|file:/Users/louis...|2021-09-12 19:25:56|  2460|[FF D8 FF E0 00 1...|            Banana|\n",
      "+--------------------+-------------------+------+--------------------+------------------+\n",
      "\n"
     ]
    },
    {
     "data": {
      "text/plain": [
       "None"
      ]
     },
     "metadata": {},
     "output_type": "display_data"
    },
    {
     "name": "stdout",
     "output_type": "stream",
     "text": [
      "root\n",
      " |-- path: string (nullable = true)\n",
      " |-- modificationTime: timestamp (nullable = true)\n",
      " |-- length: long (nullable = true)\n",
      " |-- content: binary (nullable = true)\n",
      " |-- fruit: string (nullable = true)\n",
      "\n"
     ]
    }
   ],
   "source": [
    "images = spark.read.format(\"binaryFile\") \\\n",
    "    .option(\"pathGlobFilter\", \"*.jpg\") \\\n",
    "    .option(\"recursiveFileLookup\", \"true\") \\\n",
    "    .load(path+dataset)\n",
    "\n",
    "# Add label\n",
    "images = images.withColumn(\"fruit\", split((\"path\"), \"/\").getItem(12)) # Cloud : getItem(4)\n",
    "\n",
    "display(images.show())\n",
    "images.printSchema()"
   ]
  },
  {
   "cell_type": "code",
   "execution_count": 8,
   "id": "43f199fb",
   "metadata": {
    "ExecuteTime": {
     "end_time": "2022-02-22T16:11:16.232965Z",
     "start_time": "2022-02-22T16:11:15.016832Z"
    }
   },
   "outputs": [
    {
     "name": "stdout",
     "output_type": "stream",
     "text": [
      "(14, 5)\n"
     ]
    }
   ],
   "source": [
    "print((images.count(), len(images.columns)))"
   ]
  },
  {
   "cell_type": "markdown",
   "id": "e747871f",
   "metadata": {},
   "source": [
    "## Visualization of images and preprocessing"
   ]
  },
  {
   "cell_type": "code",
   "execution_count": 71,
   "id": "f9181df9",
   "metadata": {
    "ExecuteTime": {
     "end_time": "2022-02-22T17:01:23.738129Z",
     "start_time": "2022-02-22T17:01:23.640584Z"
    }
   },
   "outputs": [
    {
     "data": {
      "text/plain": [
       "<matplotlib.image.AxesImage at 0x2c0c14310>"
      ]
     },
     "execution_count": 71,
     "metadata": {},
     "output_type": "execute_result"
    },
    {
     "data": {
      "image/png": "[encoded data removed]",
      "text/plain": [
       "<Figure size 432x288 with 1 Axes>"
      ]
     },
     "metadata": {
      "needs_background": "light"
     },
     "output_type": "display_data"
    }
   ],
   "source": [
    "from keras.preprocessing.image import load_img\n",
    "img_test = \"/Users/louisrageot/Desktop/OC DS/Projet 8 - Déployez une application sur le cloud/Livrables.nosync/archive/fruits-360_dataset/fruits-360/Training/Strawberry/255_100.jpg\"\n",
    "\n",
    "\n",
    "# load an image from file\n",
    "image = load_img(img_test, color_mode=\"rgb\")\n",
    "\n",
    "plt.imshow(image)"
   ]
  },
  {
   "cell_type": "code",
   "execution_count": 72,
   "id": "4d4ef7af",
   "metadata": {
    "ExecuteTime": {
     "end_time": "2022-02-22T17:01:23.738129Z",
     "start_time": "2022-02-22T17:01:23.640584Z"
    }
   },
   "outputs": [
    {
     "data": {
      "text/plain": [
       "<matplotlib.image.AxesImage at 0x2c0c662e0>"
      ]
     },
     "execution_count": 72,
     "metadata": {},
     "output_type": "execute_result"
    },
    {
     "data": {
      "image/png": "[encoded data removed]",
      "text/plain": [
       "<Figure size 432x288 with 1 Axes>"
      ]
     },
     "metadata": {
      "needs_background": "light"
     },
     "output_type": "display_data"
    }
   ],
   "source": [
    "# Resizing to 224,224 for Transfer Learning\n",
    "\n",
    "image = cv2.resize(np.array(image), (224, 224))\n",
    "\n",
    "plt.imshow(image)"
   ]
  },
  {
   "cell_type": "code",
   "execution_count": 75,
   "id": "4f27597f",
   "metadata": {
    "ExecuteTime": {
     "end_time": "2022-02-22T17:03:31.966082Z",
     "start_time": "2022-02-22T17:03:31.752710Z"
    }
   },
   "outputs": [
    {
     "data": {
      "text/plain": [
       "<matplotlib.image.AxesImage at 0x2bd8d5df0>"
      ]
     },
     "execution_count": 75,
     "metadata": {},
     "output_type": "execute_result"
    },
    {
     "data": {
      "image/png": "[encoded data removed]",
      "text/plain": [
       "<Figure size 432x288 with 1 Axes>"
      ]
     },
     "metadata": {
      "needs_background": "light"
     },
     "output_type": "display_data"
    }
   ],
   "source": [
    "# Noise reduction\n",
    "\n",
    "image = cv2.fastNlMeansDenoisingColored(\n",
    "    np.array(image), templateWindowSize=7, searchWindowSize=21, hColor=10)\n",
    "\n",
    "plt.imshow(image)"
   ]
  },
  {
   "cell_type": "markdown",
   "id": "f953b87a",
   "metadata": {},
   "source": [
    "## Featurization of images with transfer learning\n",
    "\n",
    "https://docs.databricks.com/applications/machine-learning/preprocess-data/transfer-learning-tensorflow.html"
   ]
  },
  {
   "cell_type": "code",
   "execution_count": 9,
   "id": "d02b0dbb",
   "metadata": {
    "ExecuteTime": {
     "end_time": "2022-02-22T16:11:18.480324Z",
     "start_time": "2022-02-22T16:11:17.517740Z"
    },
    "scrolled": true
   },
   "outputs": [
    {
     "name": "stderr",
     "output_type": "stream",
     "text": [
      "2022-02-22 17:11:17.579837: I tensorflow/core/common_runtime/pluggable_device/pluggable_device_factory.cc:305] Could not identify NUMA node of platform GPU ID 0, defaulting to 0. Your kernel may not have been built with NUMA support.\n",
      "2022-02-22 17:11:17.580669: I tensorflow/core/common_runtime/pluggable_device/pluggable_device_factory.cc:271] Created TensorFlow device (/job:localhost/replica:0/task:0/device:GPU:0 with 0 MB memory) -> physical PluggableDevice (device: 0, name: METAL, pci bus id: <undefined>)\n"
     ]
    },
    {
     "name": "stdout",
     "output_type": "stream",
     "text": [
      "Metal device set to: Apple M1\n",
      "Model: \"resnet50\"\n",
      "__________________________________________________________________________________________________\n",
      "Layer (type)                    Output Shape         Param #     Connected to                     \n",
      "==================================================================================================\n",
      "input_1 (InputLayer)            [(None, None, None,  0                                            \n",
      "__________________________________________________________________________________________________\n",
      "conv1_pad (ZeroPadding2D)       (None, None, None, 3 0           input_1[0][0]                    \n",
      "__________________________________________________________________________________________________\n",
      "conv1_conv (Conv2D)             (None, None, None, 6 9472        conv1_pad[0][0]                  \n",
      "__________________________________________________________________________________________________\n",
      "conv1_bn (BatchNormalization)   (None, None, None, 6 256         conv1_conv[0][0]                 \n",
      "__________________________________________________________________________________________________\n",
      "conv1_relu (Activation)         (None, None, None, 6 0           conv1_bn[0][0]                   \n",
      "__________________________________________________________________________________________________\n",
      "pool1_pad (ZeroPadding2D)       (None, None, None, 6 0           conv1_relu[0][0]                 \n",
      "__________________________________________________________________________________________________\n",
      "pool1_pool (MaxPooling2D)       (None, None, None, 6 0           pool1_pad[0][0]                  \n",
      "__________________________________________________________________________________________________\n",
      "conv2_block1_1_conv (Conv2D)    (None, None, None, 6 4160        pool1_pool[0][0]                 \n",
      "__________________________________________________________________________________________________\n",
      "conv2_block1_1_bn (BatchNormali (None, None, None, 6 256         conv2_block1_1_conv[0][0]        \n",
      "__________________________________________________________________________________________________\n",
      "conv2_block1_1_relu (Activation (None, None, None, 6 0           conv2_block1_1_bn[0][0]          \n",
      "__________________________________________________________________________________________________\n",
      "conv2_block1_2_conv (Conv2D)    (None, None, None, 6 36928       conv2_block1_1_relu[0][0]        \n",
      "__________________________________________________________________________________________________\n",
      "conv2_block1_2_bn (BatchNormali (None, None, None, 6 256         conv2_block1_2_conv[0][0]        \n",
      "__________________________________________________________________________________________________\n",
      "conv2_block1_2_relu (Activation (None, None, None, 6 0           conv2_block1_2_bn[0][0]          \n",
      "__________________________________________________________________________________________________\n",
      "conv2_block1_0_conv (Conv2D)    (None, None, None, 2 16640       pool1_pool[0][0]                 \n",
      "__________________________________________________________________________________________________\n",
      "conv2_block1_3_conv (Conv2D)    (None, None, None, 2 16640       conv2_block1_2_relu[0][0]        \n",
      "__________________________________________________________________________________________________\n",
      "conv2_block1_0_bn (BatchNormali (None, None, None, 2 1024        conv2_block1_0_conv[0][0]        \n",
      "__________________________________________________________________________________________________\n",
      "conv2_block1_3_bn (BatchNormali (None, None, None, 2 1024        conv2_block1_3_conv[0][0]        \n",
      "__________________________________________________________________________________________________\n",
      "conv2_block1_add (Add)          (None, None, None, 2 0           conv2_block1_0_bn[0][0]          \n",
      "                                                                 conv2_block1_3_bn[0][0]          \n",
      "__________________________________________________________________________________________________\n",
      "conv2_block1_out (Activation)   (None, None, None, 2 0           conv2_block1_add[0][0]           \n",
      "__________________________________________________________________________________________________\n",
      "conv2_block2_1_conv (Conv2D)    (None, None, None, 6 16448       conv2_block1_out[0][0]           \n",
      "__________________________________________________________________________________________________\n",
      "conv2_block2_1_bn (BatchNormali (None, None, None, 6 256         conv2_block2_1_conv[0][0]        \n",
      "__________________________________________________________________________________________________\n",
      "conv2_block2_1_relu (Activation (None, None, None, 6 0           conv2_block2_1_bn[0][0]          \n",
      "__________________________________________________________________________________________________\n",
      "conv2_block2_2_conv (Conv2D)    (None, None, None, 6 36928       conv2_block2_1_relu[0][0]        \n",
      "__________________________________________________________________________________________________\n",
      "conv2_block2_2_bn (BatchNormali (None, None, None, 6 256         conv2_block2_2_conv[0][0]        \n",
      "__________________________________________________________________________________________________\n",
      "conv2_block2_2_relu (Activation (None, None, None, 6 0           conv2_block2_2_bn[0][0]          \n",
      "__________________________________________________________________________________________________\n",
      "conv2_block2_3_conv (Conv2D)    (None, None, None, 2 16640       conv2_block2_2_relu[0][0]        \n",
      "__________________________________________________________________________________________________\n",
      "conv2_block2_3_bn (BatchNormali (None, None, None, 2 1024        conv2_block2_3_conv[0][0]        \n",
      "__________________________________________________________________________________________________\n",
      "conv2_block2_add (Add)          (None, None, None, 2 0           conv2_block1_out[0][0]           \n",
      "                                                                 conv2_block2_3_bn[0][0]          \n",
      "__________________________________________________________________________________________________\n",
      "conv2_block2_out (Activation)   (None, None, None, 2 0           conv2_block2_add[0][0]           \n",
      "__________________________________________________________________________________________________\n",
      "conv2_block3_1_conv (Conv2D)    (None, None, None, 6 16448       conv2_block2_out[0][0]           \n",
      "__________________________________________________________________________________________________\n",
      "conv2_block3_1_bn (BatchNormali (None, None, None, 6 256         conv2_block3_1_conv[0][0]        \n",
      "__________________________________________________________________________________________________\n",
      "conv2_block3_1_relu (Activation (None, None, None, 6 0           conv2_block3_1_bn[0][0]          \n",
      "__________________________________________________________________________________________________\n",
      "conv2_block3_2_conv (Conv2D)    (None, None, None, 6 36928       conv2_block3_1_relu[0][0]        \n",
      "__________________________________________________________________________________________________\n",
      "conv2_block3_2_bn (BatchNormali (None, None, None, 6 256         conv2_block3_2_conv[0][0]        \n",
      "__________________________________________________________________________________________________\n",
      "conv2_block3_2_relu (Activation (None, None, None, 6 0           conv2_block3_2_bn[0][0]          \n",
      "__________________________________________________________________________________________________\n",
      "conv2_block3_3_conv (Conv2D)    (None, None, None, 2 16640       conv2_block3_2_relu[0][0]        \n",
      "__________________________________________________________________________________________________\n",
      "conv2_block3_3_bn (BatchNormali (None, None, None, 2 1024        conv2_block3_3_conv[0][0]        \n",
      "__________________________________________________________________________________________________\n",
      "conv2_block3_add (Add)          (None, None, None, 2 0           conv2_block2_out[0][0]           \n",
      "                                                                 conv2_block3_3_bn[0][0]          \n",
      "__________________________________________________________________________________________________\n",
      "conv2_block3_out (Activation)   (None, None, None, 2 0           conv2_block3_add[0][0]           \n",
      "__________________________________________________________________________________________________\n",
      "conv3_block1_1_conv (Conv2D)    (None, None, None, 1 32896       conv2_block3_out[0][0]           \n",
      "__________________________________________________________________________________________________\n",
      "conv3_block1_1_bn (BatchNormali (None, None, None, 1 512         conv3_block1_1_conv[0][0]        \n",
      "__________________________________________________________________________________________________\n",
      "conv3_block1_1_relu (Activation (None, None, None, 1 0           conv3_block1_1_bn[0][0]          \n",
      "__________________________________________________________________________________________________\n",
      "conv3_block1_2_conv (Conv2D)    (None, None, None, 1 147584      conv3_block1_1_relu[0][0]        \n",
      "__________________________________________________________________________________________________\n",
      "conv3_block1_2_bn (BatchNormali (None, None, None, 1 512         conv3_block1_2_conv[0][0]        \n",
      "__________________________________________________________________________________________________\n",
      "conv3_block1_2_relu (Activation (None, None, None, 1 0           conv3_block1_2_bn[0][0]          \n",
      "__________________________________________________________________________________________________\n",
      "conv3_block1_0_conv (Conv2D)    (None, None, None, 5 131584      conv2_block3_out[0][0]           \n",
      "__________________________________________________________________________________________________\n",
      "conv3_block1_3_conv (Conv2D)    (None, None, None, 5 66048       conv3_block1_2_relu[0][0]        \n",
      "__________________________________________________________________________________________________\n",
      "conv3_block1_0_bn (BatchNormali (None, None, None, 5 2048        conv3_block1_0_conv[0][0]        \n",
      "__________________________________________________________________________________________________\n",
      "conv3_block1_3_bn (BatchNormali (None, None, None, 5 2048        conv3_block1_3_conv[0][0]        \n",
      "__________________________________________________________________________________________________\n",
      "conv3_block1_add (Add)          (None, None, None, 5 0           conv3_block1_0_bn[0][0]          \n",
      "                                                                 conv3_block1_3_bn[0][0]          \n",
      "__________________________________________________________________________________________________\n",
      "conv3_block1_out (Activation)   (None, None, None, 5 0           conv3_block1_add[0][0]           \n",
      "__________________________________________________________________________________________________\n",
      "conv3_block2_1_conv (Conv2D)    (None, None, None, 1 65664       conv3_block1_out[0][0]           \n",
      "__________________________________________________________________________________________________\n",
      "conv3_block2_1_bn (BatchNormali (None, None, None, 1 512         conv3_block2_1_conv[0][0]        \n",
      "__________________________________________________________________________________________________\n",
      "conv3_block2_1_relu (Activation (None, None, None, 1 0           conv3_block2_1_bn[0][0]          \n",
      "__________________________________________________________________________________________________\n",
      "conv3_block2_2_conv (Conv2D)    (None, None, None, 1 147584      conv3_block2_1_relu[0][0]        \n",
      "__________________________________________________________________________________________________\n",
      "conv3_block2_2_bn (BatchNormali (None, None, None, 1 512         conv3_block2_2_conv[0][0]        \n",
      "__________________________________________________________________________________________________\n",
      "conv3_block2_2_relu (Activation (None, None, None, 1 0           conv3_block2_2_bn[0][0]          \n",
      "__________________________________________________________________________________________________\n",
      "conv3_block2_3_conv (Conv2D)    (None, None, None, 5 66048       conv3_block2_2_relu[0][0]        \n",
      "__________________________________________________________________________________________________\n",
      "conv3_block2_3_bn (BatchNormali (None, None, None, 5 2048        conv3_block2_3_conv[0][0]        \n",
      "__________________________________________________________________________________________________\n",
      "conv3_block2_add (Add)          (None, None, None, 5 0           conv3_block1_out[0][0]           \n",
      "                                                                 conv3_block2_3_bn[0][0]          \n",
      "__________________________________________________________________________________________________\n",
      "conv3_block2_out (Activation)   (None, None, None, 5 0           conv3_block2_add[0][0]           \n",
      "__________________________________________________________________________________________________\n",
      "conv3_block3_1_conv (Conv2D)    (None, None, None, 1 65664       conv3_block2_out[0][0]           \n",
      "__________________________________________________________________________________________________\n",
      "conv3_block3_1_bn (BatchNormali (None, None, None, 1 512         conv3_block3_1_conv[0][0]        \n",
      "__________________________________________________________________________________________________\n",
      "conv3_block3_1_relu (Activation (None, None, None, 1 0           conv3_block3_1_bn[0][0]          \n",
      "__________________________________________________________________________________________________\n",
      "conv3_block3_2_conv (Conv2D)    (None, None, None, 1 147584      conv3_block3_1_relu[0][0]        \n",
      "__________________________________________________________________________________________________\n",
      "conv3_block3_2_bn (BatchNormali (None, None, None, 1 512         conv3_block3_2_conv[0][0]        \n",
      "__________________________________________________________________________________________________\n",
      "conv3_block3_2_relu (Activation (None, None, None, 1 0           conv3_block3_2_bn[0][0]          \n",
      "__________________________________________________________________________________________________\n",
      "conv3_block3_3_conv (Conv2D)    (None, None, None, 5 66048       conv3_block3_2_relu[0][0]        \n",
      "__________________________________________________________________________________________________\n",
      "conv3_block3_3_bn (BatchNormali (None, None, None, 5 2048        conv3_block3_3_conv[0][0]        \n",
      "__________________________________________________________________________________________________\n",
      "conv3_block3_add (Add)          (None, None, None, 5 0           conv3_block2_out[0][0]           \n",
      "                                                                 conv3_block3_3_bn[0][0]          \n",
      "__________________________________________________________________________________________________\n",
      "conv3_block3_out (Activation)   (None, None, None, 5 0           conv3_block3_add[0][0]           \n",
      "__________________________________________________________________________________________________\n",
      "conv3_block4_1_conv (Conv2D)    (None, None, None, 1 65664       conv3_block3_out[0][0]           \n",
      "__________________________________________________________________________________________________\n",
      "conv3_block4_1_bn (BatchNormali (None, None, None, 1 512         conv3_block4_1_conv[0][0]        \n",
      "__________________________________________________________________________________________________\n",
      "conv3_block4_1_relu (Activation (None, None, None, 1 0           conv3_block4_1_bn[0][0]          \n",
      "__________________________________________________________________________________________________\n",
      "conv3_block4_2_conv (Conv2D)    (None, None, None, 1 147584      conv3_block4_1_relu[0][0]        \n",
      "__________________________________________________________________________________________________\n",
      "conv3_block4_2_bn (BatchNormali (None, None, None, 1 512         conv3_block4_2_conv[0][0]        \n",
      "__________________________________________________________________________________________________\n",
      "conv3_block4_2_relu (Activation (None, None, None, 1 0           conv3_block4_2_bn[0][0]          \n",
      "__________________________________________________________________________________________________\n",
      "conv3_block4_3_conv (Conv2D)    (None, None, None, 5 66048       conv3_block4_2_relu[0][0]        \n",
      "__________________________________________________________________________________________________\n",
      "conv3_block4_3_bn (BatchNormali (None, None, None, 5 2048        conv3_block4_3_conv[0][0]        \n",
      "__________________________________________________________________________________________________\n",
      "conv3_block4_add (Add)          (None, None, None, 5 0           conv3_block3_out[0][0]           \n",
      "                                                                 conv3_block4_3_bn[0][0]          \n",
      "__________________________________________________________________________________________________\n",
      "conv3_block4_out (Activation)   (None, None, None, 5 0           conv3_block4_add[0][0]           \n",
      "__________________________________________________________________________________________________\n",
      "conv4_block1_1_conv (Conv2D)    (None, None, None, 2 131328      conv3_block4_out[0][0]           \n",
      "__________________________________________________________________________________________________\n",
      "conv4_block1_1_bn (BatchNormali (None, None, None, 2 1024        conv4_block1_1_conv[0][0]        \n",
      "__________________________________________________________________________________________________\n",
      "conv4_block1_1_relu (Activation (None, None, None, 2 0           conv4_block1_1_bn[0][0]          \n",
      "__________________________________________________________________________________________________\n",
      "conv4_block1_2_conv (Conv2D)    (None, None, None, 2 590080      conv4_block1_1_relu[0][0]        \n",
      "__________________________________________________________________________________________________\n",
      "conv4_block1_2_bn (BatchNormali (None, None, None, 2 1024        conv4_block1_2_conv[0][0]        \n",
      "__________________________________________________________________________________________________\n",
      "conv4_block1_2_relu (Activation (None, None, None, 2 0           conv4_block1_2_bn[0][0]          \n",
      "__________________________________________________________________________________________________\n",
      "conv4_block1_0_conv (Conv2D)    (None, None, None, 1 525312      conv3_block4_out[0][0]           \n",
      "__________________________________________________________________________________________________\n",
      "conv4_block1_3_conv (Conv2D)    (None, None, None, 1 263168      conv4_block1_2_relu[0][0]        \n",
      "__________________________________________________________________________________________________\n",
      "conv4_block1_0_bn (BatchNormali (None, None, None, 1 4096        conv4_block1_0_conv[0][0]        \n",
      "__________________________________________________________________________________________________\n",
      "conv4_block1_3_bn (BatchNormali (None, None, None, 1 4096        conv4_block1_3_conv[0][0]        \n",
      "__________________________________________________________________________________________________\n",
      "conv4_block1_add (Add)          (None, None, None, 1 0           conv4_block1_0_bn[0][0]          \n",
      "                                                                 conv4_block1_3_bn[0][0]          \n",
      "__________________________________________________________________________________________________\n",
      "conv4_block1_out (Activation)   (None, None, None, 1 0           conv4_block1_add[0][0]           \n",
      "__________________________________________________________________________________________________\n",
      "conv4_block2_1_conv (Conv2D)    (None, None, None, 2 262400      conv4_block1_out[0][0]           \n",
      "__________________________________________________________________________________________________\n",
      "conv4_block2_1_bn (BatchNormali (None, None, None, 2 1024        conv4_block2_1_conv[0][0]        \n",
      "__________________________________________________________________________________________________\n",
      "conv4_block2_1_relu (Activation (None, None, None, 2 0           conv4_block2_1_bn[0][0]          \n",
      "__________________________________________________________________________________________________\n",
      "conv4_block2_2_conv (Conv2D)    (None, None, None, 2 590080      conv4_block2_1_relu[0][0]        \n",
      "__________________________________________________________________________________________________\n",
      "conv4_block2_2_bn (BatchNormali (None, None, None, 2 1024        conv4_block2_2_conv[0][0]        \n",
      "__________________________________________________________________________________________________\n",
      "conv4_block2_2_relu (Activation (None, None, None, 2 0           conv4_block2_2_bn[0][0]          \n",
      "__________________________________________________________________________________________________\n",
      "conv4_block2_3_conv (Conv2D)    (None, None, None, 1 263168      conv4_block2_2_relu[0][0]        \n",
      "__________________________________________________________________________________________________\n",
      "conv4_block2_3_bn (BatchNormali (None, None, None, 1 4096        conv4_block2_3_conv[0][0]        \n",
      "__________________________________________________________________________________________________\n",
      "conv4_block2_add (Add)          (None, None, None, 1 0           conv4_block1_out[0][0]           \n",
      "                                                                 conv4_block2_3_bn[0][0]          \n",
      "__________________________________________________________________________________________________\n",
      "conv4_block2_out (Activation)   (None, None, None, 1 0           conv4_block2_add[0][0]           \n",
      "__________________________________________________________________________________________________\n",
      "conv4_block3_1_conv (Conv2D)    (None, None, None, 2 262400      conv4_block2_out[0][0]           \n",
      "__________________________________________________________________________________________________\n",
      "conv4_block3_1_bn (BatchNormali (None, None, None, 2 1024        conv4_block3_1_conv[0][0]        \n",
      "__________________________________________________________________________________________________\n",
      "conv4_block3_1_relu (Activation (None, None, None, 2 0           conv4_block3_1_bn[0][0]          \n",
      "__________________________________________________________________________________________________\n",
      "conv4_block3_2_conv (Conv2D)    (None, None, None, 2 590080      conv4_block3_1_relu[0][0]        \n",
      "__________________________________________________________________________________________________\n",
      "conv4_block3_2_bn (BatchNormali (None, None, None, 2 1024        conv4_block3_2_conv[0][0]        \n",
      "__________________________________________________________________________________________________\n",
      "conv4_block3_2_relu (Activation (None, None, None, 2 0           conv4_block3_2_bn[0][0]          \n",
      "__________________________________________________________________________________________________\n",
      "conv4_block3_3_conv (Conv2D)    (None, None, None, 1 263168      conv4_block3_2_relu[0][0]        \n",
      "__________________________________________________________________________________________________\n",
      "conv4_block3_3_bn (BatchNormali (None, None, None, 1 4096        conv4_block3_3_conv[0][0]        \n",
      "__________________________________________________________________________________________________\n",
      "conv4_block3_add (Add)          (None, None, None, 1 0           conv4_block2_out[0][0]           \n",
      "                                                                 conv4_block3_3_bn[0][0]          \n",
      "__________________________________________________________________________________________________\n",
      "conv4_block3_out (Activation)   (None, None, None, 1 0           conv4_block3_add[0][0]           \n",
      "__________________________________________________________________________________________________\n",
      "conv4_block4_1_conv (Conv2D)    (None, None, None, 2 262400      conv4_block3_out[0][0]           \n",
      "__________________________________________________________________________________________________\n",
      "conv4_block4_1_bn (BatchNormali (None, None, None, 2 1024        conv4_block4_1_conv[0][0]        \n",
      "__________________________________________________________________________________________________\n",
      "conv4_block4_1_relu (Activation (None, None, None, 2 0           conv4_block4_1_bn[0][0]          \n",
      "__________________________________________________________________________________________________\n",
      "conv4_block4_2_conv (Conv2D)    (None, None, None, 2 590080      conv4_block4_1_relu[0][0]        \n",
      "__________________________________________________________________________________________________\n",
      "conv4_block4_2_bn (BatchNormali (None, None, None, 2 1024        conv4_block4_2_conv[0][0]        \n",
      "__________________________________________________________________________________________________\n",
      "conv4_block4_2_relu (Activation (None, None, None, 2 0           conv4_block4_2_bn[0][0]          \n",
      "__________________________________________________________________________________________________\n",
      "conv4_block4_3_conv (Conv2D)    (None, None, None, 1 263168      conv4_block4_2_relu[0][0]        \n",
      "__________________________________________________________________________________________________\n",
      "conv4_block4_3_bn (BatchNormali (None, None, None, 1 4096        conv4_block4_3_conv[0][0]        \n",
      "__________________________________________________________________________________________________\n",
      "conv4_block4_add (Add)          (None, None, None, 1 0           conv4_block3_out[0][0]           \n",
      "                                                                 conv4_block4_3_bn[0][0]          \n",
      "__________________________________________________________________________________________________\n",
      "conv4_block4_out (Activation)   (None, None, None, 1 0           conv4_block4_add[0][0]           \n",
      "__________________________________________________________________________________________________\n",
      "conv4_block5_1_conv (Conv2D)    (None, None, None, 2 262400      conv4_block4_out[0][0]           \n",
      "__________________________________________________________________________________________________\n",
      "conv4_block5_1_bn (BatchNormali (None, None, None, 2 1024        conv4_block5_1_conv[0][0]        \n",
      "__________________________________________________________________________________________________\n",
      "conv4_block5_1_relu (Activation (None, None, None, 2 0           conv4_block5_1_bn[0][0]          \n",
      "__________________________________________________________________________________________________\n",
      "conv4_block5_2_conv (Conv2D)    (None, None, None, 2 590080      conv4_block5_1_relu[0][0]        \n",
      "__________________________________________________________________________________________________\n",
      "conv4_block5_2_bn (BatchNormali (None, None, None, 2 1024        conv4_block5_2_conv[0][0]        \n",
      "__________________________________________________________________________________________________\n",
      "conv4_block5_2_relu (Activation (None, None, None, 2 0           conv4_block5_2_bn[0][0]          \n",
      "__________________________________________________________________________________________________\n",
      "conv4_block5_3_conv (Conv2D)    (None, None, None, 1 263168      conv4_block5_2_relu[0][0]        \n",
      "__________________________________________________________________________________________________\n",
      "conv4_block5_3_bn (BatchNormali (None, None, None, 1 4096        conv4_block5_3_conv[0][0]        \n",
      "__________________________________________________________________________________________________\n",
      "conv4_block5_add (Add)          (None, None, None, 1 0           conv4_block4_out[0][0]           \n",
      "                                                                 conv4_block5_3_bn[0][0]          \n",
      "__________________________________________________________________________________________________\n",
      "conv4_block5_out (Activation)   (None, None, None, 1 0           conv4_block5_add[0][0]           \n",
      "__________________________________________________________________________________________________\n",
      "conv4_block6_1_conv (Conv2D)    (None, None, None, 2 262400      conv4_block5_out[0][0]           \n",
      "__________________________________________________________________________________________________\n",
      "conv4_block6_1_bn (BatchNormali (None, None, None, 2 1024        conv4_block6_1_conv[0][0]        \n",
      "__________________________________________________________________________________________________\n",
      "conv4_block6_1_relu (Activation (None, None, None, 2 0           conv4_block6_1_bn[0][0]          \n",
      "__________________________________________________________________________________________________\n",
      "conv4_block6_2_conv (Conv2D)    (None, None, None, 2 590080      conv4_block6_1_relu[0][0]        \n",
      "__________________________________________________________________________________________________\n",
      "conv4_block6_2_bn (BatchNormali (None, None, None, 2 1024        conv4_block6_2_conv[0][0]        \n",
      "__________________________________________________________________________________________________\n",
      "conv4_block6_2_relu (Activation (None, None, None, 2 0           conv4_block6_2_bn[0][0]          \n",
      "__________________________________________________________________________________________________\n",
      "conv4_block6_3_conv (Conv2D)    (None, None, None, 1 263168      conv4_block6_2_relu[0][0]        \n",
      "__________________________________________________________________________________________________\n",
      "conv4_block6_3_bn (BatchNormali (None, None, None, 1 4096        conv4_block6_3_conv[0][0]        \n",
      "__________________________________________________________________________________________________\n",
      "conv4_block6_add (Add)          (None, None, None, 1 0           conv4_block5_out[0][0]           \n",
      "                                                                 conv4_block6_3_bn[0][0]          \n",
      "__________________________________________________________________________________________________\n",
      "conv4_block6_out (Activation)   (None, None, None, 1 0           conv4_block6_add[0][0]           \n",
      "__________________________________________________________________________________________________\n",
      "conv5_block1_1_conv (Conv2D)    (None, None, None, 5 524800      conv4_block6_out[0][0]           \n",
      "__________________________________________________________________________________________________\n",
      "conv5_block1_1_bn (BatchNormali (None, None, None, 5 2048        conv5_block1_1_conv[0][0]        \n",
      "__________________________________________________________________________________________________\n",
      "conv5_block1_1_relu (Activation (None, None, None, 5 0           conv5_block1_1_bn[0][0]          \n",
      "__________________________________________________________________________________________________\n",
      "conv5_block1_2_conv (Conv2D)    (None, None, None, 5 2359808     conv5_block1_1_relu[0][0]        \n",
      "__________________________________________________________________________________________________\n",
      "conv5_block1_2_bn (BatchNormali (None, None, None, 5 2048        conv5_block1_2_conv[0][0]        \n",
      "__________________________________________________________________________________________________\n",
      "conv5_block1_2_relu (Activation (None, None, None, 5 0           conv5_block1_2_bn[0][0]          \n",
      "__________________________________________________________________________________________________\n",
      "conv5_block1_0_conv (Conv2D)    (None, None, None, 2 2099200     conv4_block6_out[0][0]           \n",
      "__________________________________________________________________________________________________\n",
      "conv5_block1_3_conv (Conv2D)    (None, None, None, 2 1050624     conv5_block1_2_relu[0][0]        \n",
      "__________________________________________________________________________________________________\n",
      "conv5_block1_0_bn (BatchNormali (None, None, None, 2 8192        conv5_block1_0_conv[0][0]        \n",
      "__________________________________________________________________________________________________\n",
      "conv5_block1_3_bn (BatchNormali (None, None, None, 2 8192        conv5_block1_3_conv[0][0]        \n",
      "__________________________________________________________________________________________________\n",
      "conv5_block1_add (Add)          (None, None, None, 2 0           conv5_block1_0_bn[0][0]          \n",
      "                                                                 conv5_block1_3_bn[0][0]          \n",
      "__________________________________________________________________________________________________\n",
      "conv5_block1_out (Activation)   (None, None, None, 2 0           conv5_block1_add[0][0]           \n",
      "__________________________________________________________________________________________________\n",
      "conv5_block2_1_conv (Conv2D)    (None, None, None, 5 1049088     conv5_block1_out[0][0]           \n",
      "__________________________________________________________________________________________________\n",
      "conv5_block2_1_bn (BatchNormali (None, None, None, 5 2048        conv5_block2_1_conv[0][0]        \n",
      "__________________________________________________________________________________________________\n",
      "conv5_block2_1_relu (Activation (None, None, None, 5 0           conv5_block2_1_bn[0][0]          \n",
      "__________________________________________________________________________________________________\n",
      "conv5_block2_2_conv (Conv2D)    (None, None, None, 5 2359808     conv5_block2_1_relu[0][0]        \n",
      "__________________________________________________________________________________________________\n",
      "conv5_block2_2_bn (BatchNormali (None, None, None, 5 2048        conv5_block2_2_conv[0][0]        \n",
      "__________________________________________________________________________________________________\n",
      "conv5_block2_2_relu (Activation (None, None, None, 5 0           conv5_block2_2_bn[0][0]          \n",
      "__________________________________________________________________________________________________\n",
      "conv5_block2_3_conv (Conv2D)    (None, None, None, 2 1050624     conv5_block2_2_relu[0][0]        \n",
      "__________________________________________________________________________________________________\n",
      "conv5_block2_3_bn (BatchNormali (None, None, None, 2 8192        conv5_block2_3_conv[0][0]        \n",
      "__________________________________________________________________________________________________\n",
      "conv5_block2_add (Add)          (None, None, None, 2 0           conv5_block1_out[0][0]           \n",
      "                                                                 conv5_block2_3_bn[0][0]          \n",
      "__________________________________________________________________________________________________\n",
      "conv5_block2_out (Activation)   (None, None, None, 2 0           conv5_block2_add[0][0]           \n",
      "__________________________________________________________________________________________________\n",
      "conv5_block3_1_conv (Conv2D)    (None, None, None, 5 1049088     conv5_block2_out[0][0]           \n",
      "__________________________________________________________________________________________________\n",
      "conv5_block3_1_bn (BatchNormali (None, None, None, 5 2048        conv5_block3_1_conv[0][0]        \n",
      "__________________________________________________________________________________________________\n",
      "conv5_block3_1_relu (Activation (None, None, None, 5 0           conv5_block3_1_bn[0][0]          \n",
      "__________________________________________________________________________________________________\n",
      "conv5_block3_2_conv (Conv2D)    (None, None, None, 5 2359808     conv5_block3_1_relu[0][0]        \n",
      "__________________________________________________________________________________________________\n",
      "conv5_block3_2_bn (BatchNormali (None, None, None, 5 2048        conv5_block3_2_conv[0][0]        \n",
      "__________________________________________________________________________________________________\n",
      "conv5_block3_2_relu (Activation (None, None, None, 5 0           conv5_block3_2_bn[0][0]          \n",
      "__________________________________________________________________________________________________\n",
      "conv5_block3_3_conv (Conv2D)    (None, None, None, 2 1050624     conv5_block3_2_relu[0][0]        \n",
      "__________________________________________________________________________________________________\n",
      "conv5_block3_3_bn (BatchNormali (None, None, None, 2 8192        conv5_block3_3_conv[0][0]        \n",
      "__________________________________________________________________________________________________\n",
      "conv5_block3_add (Add)          (None, None, None, 2 0           conv5_block2_out[0][0]           \n",
      "                                                                 conv5_block3_3_bn[0][0]          \n",
      "__________________________________________________________________________________________________\n",
      "conv5_block3_out (Activation)   (None, None, None, 2 0           conv5_block3_add[0][0]           \n",
      "==================================================================================================\n",
      "Total params: 23,587,712\n",
      "Trainable params: 23,534,592\n",
      "Non-trainable params: 53,120\n",
      "__________________________________________________________________________________________________\n"
     ]
    }
   ],
   "source": [
    "model = ResNet50(include_top=False)\n",
    "model.summary()  # verify that the top layer is removed"
   ]
  },
  {
   "cell_type": "code",
   "execution_count": 10,
   "id": "aac02dbb",
   "metadata": {
    "ExecuteTime": {
     "end_time": "2022-02-22T16:11:19.225652Z",
     "start_time": "2022-02-22T16:11:18.642445Z"
    }
   },
   "outputs": [],
   "source": [
    "bc_model_weights = spark.sparkContext.broadcast(model.get_weights())\n",
    "\n",
    "\n",
    "def model_fn():\n",
    "    \"\"\"\n",
    "    Returns a ResNet50 model with top layer removed and broadcasted pretrained weights.\n",
    "    \"\"\"\n",
    "    model = ResNet50(weights=None, include_top=False)\n",
    "    model.set_weights(bc_model_weights.value)\n",
    "    return model"
   ]
  },
  {
   "cell_type": "code",
   "execution_count": 11,
   "id": "da7c78e8",
   "metadata": {
    "ExecuteTime": {
     "end_time": "2022-02-22T16:11:20.070261Z",
     "start_time": "2022-02-22T16:11:20.065116Z"
    }
   },
   "outputs": [],
   "source": [
    "def preprocess(content):\n",
    "    \"\"\"\n",
    "    Preprocesses raw image bytes for prediction.\n",
    "    \"\"\"\n",
    "    img = Image.open(io.BytesIO(content)).resize([224, 224])\n",
    "    arr = img_to_array(img)\n",
    "    return preprocess_input(arr)\n",
    "\n",
    "\n",
    "def featurize_series(model, content_series):\n",
    "    \"\"\"\n",
    "    Featurize a pd.Series of raw images using the input model.\n",
    "    :return: a pd.Series of image features\n",
    "    \"\"\"\n",
    "    input = np.stack(content_series.map(preprocess))\n",
    "    preds = model.predict(input)\n",
    "    # For some layers, output features will be multi-dimensional tensors.\n",
    "    # We flatten the feature tensors to vectors for easier storage in Spark DataFrames.\n",
    "    output = [p.flatten() for p in preds]\n",
    "    return pd.Series(output)"
   ]
  },
  {
   "cell_type": "code",
   "execution_count": 12,
   "id": "6efecf05",
   "metadata": {
    "ExecuteTime": {
     "end_time": "2022-02-22T16:11:20.811240Z",
     "start_time": "2022-02-22T16:11:20.651150Z"
    }
   },
   "outputs": [
    {
     "name": "stderr",
     "output_type": "stream",
     "text": [
      "/Users/louisrageot/miniforge3/envs/vir_env/lib/python3.9/site-packages/pyspark/sql/pandas/functions.py:389: UserWarning: In Python 3.6+ and Spark 3.0+, it is preferred to specify type hints for pandas UDF instead of specifying pandas UDF type which will be deprecated in the future releases. See SPARK-28264 for more details.\n",
      "  warnings.warn(\n"
     ]
    }
   ],
   "source": [
    "@pandas_udf('array<float>', PandasUDFType.SCALAR_ITER)\n",
    "def featurize_udf(content_series_iter):\n",
    "    '''\n",
    "    This method is a Scalar Iterator pandas UDF wrapping our featurization function.\n",
    "    The decorator specifies that this returns a Spark DataFrame column of type ArrayType(FloatType).\n",
    "\n",
    "    :param content_series_iter: This argument is an iterator over batches of data, where each batch\n",
    "                                is a pandas Series of image data.\n",
    "    '''\n",
    "    # With Scalar Iterator pandas UDFs, we can load the model once and then re-use it\n",
    "    # for multiple data batches.  This amortizes the overhead of loading big models.\n",
    "    model = model_fn()\n",
    "    for content_series in content_series_iter:\n",
    "        yield featurize_series(model, content_series)"
   ]
  },
  {
   "cell_type": "code",
   "execution_count": 13,
   "id": "edc4c6be",
   "metadata": {
    "ExecuteTime": {
     "end_time": "2022-02-22T16:11:21.403123Z",
     "start_time": "2022-02-22T16:11:21.399081Z"
    }
   },
   "outputs": [],
   "source": [
    "# Pandas UDFs on large records (e.g., very large images) can run into Out Of Memory (OOM) errors.\n",
    "# If you hit such errors in the cell below, try reducing the Arrow batch size via `maxRecordsPerBatch`.\n",
    "#spark.conf.set(\"spark.sql.execution.arrow.maxRecordsPerBatch\", \"1024\")"
   ]
  },
  {
   "cell_type": "code",
   "execution_count": 14,
   "id": "b5fc11dc",
   "metadata": {
    "ExecuteTime": {
     "end_time": "2022-02-22T16:11:37.059727Z",
     "start_time": "2022-02-22T16:11:25.803947Z"
    },
    "scrolled": false
   },
   "outputs": [
    {
     "name": "stdout",
     "output_type": "stream",
     "text": [
      "root\n",
      " |-- path: string (nullable = true)\n",
      " |-- fruit: string (nullable = true)\n",
      " |-- features: array (nullable = true)\n",
      " |    |-- element: float (containsNull = true)\n",
      "\n"
     ]
    },
    {
     "name": "stderr",
     "output_type": "stream",
     "text": [
      "No supported GPU was found.                                         (0 + 1) / 1]\n",
      "AGX: agxa_device_template.hpp:3522:createUtilityProgramIfNeeded_block_invoke: *** Failed to compile Context Save Program\n",
      "AGX: agxa_device_template.hpp:3554:createUtilityProgramIfNeeded: *** Failed to create utility programs\n",
      "AGX: agxa_device_template.hpp:933:setupCompiler: *** Compiler setup failed.\n",
      "2022-02-22 17:11:30.049435: I tensorflow/compiler/mlir/mlir_graph_optimization_pass.cc:185] None of the MLIR Optimization Passes are enabled (registered 2)\n",
      "2022-02-22 17:11:30.052603: W tensorflow/core/platform/profile_utils/cpu_utils.cc:128] Failed to get CPU frequency: 0 Hz\n",
      "No supported GPU was found.                                         (0 + 4) / 4]\n",
      "No supported GPU was found.\n",
      "No supported GPU was found.\n",
      "AGX: agxa_device_template.hpp:3522:createUtilityProgramIfNeeded_block_invoke: *** Failed to compile Context Save Program\n",
      "AGX: agxa_device_template.hpp:3554:createUtilityProgramIfNeeded: *** Failed to create utility programs\n",
      "AGX: agxa_device_template.hpp:933:setupCompiler: *** Compiler setup failed.\n",
      "AGX: agxa_device_template.hpp:3522:createUtilityProgramIfNeeded_block_invoke: *** Failed to compile Context Save Program\n",
      "AGX: agxa_device_template.hpp:3522:createUtilityProgramIfNeeded_block_invoke: *** Failed to compile Context Save Program\n",
      "AGX: agxa_device_template.hpp:3554:createUtilityProgramIfNeeded: *** Failed to create utility programs\n",
      "AGX: agxa_device_template.hpp:3554:createUtilityProgramIfNeeded: *** Failed to create utility programs\n",
      "AGX: agxa_device_template.hpp:933:setupCompiler: *** Compiler setup failed.\n",
      "AGX: agxa_device_template.hpp:933:setupCompiler: *** Compiler setup failed.\n",
      "2022-02-22 17:11:33.662493: I tensorflow/compiler/mlir/mlir_graph_optimization_pass.cc:185] None of the MLIR Optimization Passes are enabled (registered 2)\n",
      "2022-02-22 17:11:33.662937: W tensorflow/core/platform/profile_utils/cpu_utils.cc:128] Failed to get CPU frequency: 0 Hz\n",
      "2022-02-22 17:11:33.666612: I tensorflow/compiler/mlir/mlir_graph_optimization_pass.cc:185] None of the MLIR Optimization Passes are enabled (registered 2)\n",
      "2022-02-22 17:11:33.667036: W tensorflow/core/platform/profile_utils/cpu_utils.cc:128] Failed to get CPU frequency: 0 Hz\n",
      "2022-02-22 17:11:33.681569: I tensorflow/compiler/mlir/mlir_graph_optimization_pass.cc:185] None of the MLIR Optimization Passes are enabled (registered 2)\n",
      "2022-02-22 17:11:33.682288: W tensorflow/core/platform/profile_utils/cpu_utils.cc:128] Failed to get CPU frequency: 0 Hz\n",
      "                                                                                \r"
     ]
    },
    {
     "name": "stdout",
     "output_type": "stream",
     "text": [
      "+--------------------+------------------+--------------------+\n",
      "|                path|             fruit|            features|\n",
      "+--------------------+------------------+--------------------+\n",
      "|file:/Users/louis...|  Strawberry Wedge|[0.0, 0.0, 0.0, 0...|\n",
      "|file:/Users/louis...|  Strawberry Wedge|[0.0, 0.0, 0.0, 0...|\n",
      "|file:/Users/louis...|     Passion Fruit|[0.0, 0.0, 0.0, 0...|\n",
      "|file:/Users/louis...|          Cherry 1|[0.0, 0.0, 0.0, 0...|\n",
      "|file:/Users/louis...|             Lemon|[0.0, 0.0, 0.0, 0...|\n",
      "|file:/Users/louis...|     Passion Fruit|[0.0, 0.0, 0.0, 0...|\n",
      "|file:/Users/louis...|             Lemon|[0.0, 0.0, 0.0, 0...|\n",
      "|file:/Users/louis...|Apple Granny Smith|[0.0, 0.0, 0.0, 0...|\n",
      "|file:/Users/louis...|Apple Granny Smith|[0.0, 0.0, 0.0, 0...|\n",
      "|file:/Users/louis...|        Grape Blue|[0.0, 0.0, 0.0, 0...|\n",
      "|file:/Users/louis...|          Cherry 1|[0.0, 0.0, 0.0, 0...|\n",
      "|file:/Users/louis...|        Grape Blue|[0.0, 0.0, 0.0, 0...|\n",
      "|file:/Users/louis...|            Banana|[0.0, 0.0, 0.0, 0...|\n",
      "|file:/Users/louis...|            Banana|[0.0, 0.0, 0.0, 0...|\n",
      "+--------------------+------------------+--------------------+\n",
      "\n"
     ]
    }
   ],
   "source": [
    "# We can now run featurization on our entire Spark DataFrame.\n",
    "\n",
    "features_df = images.select(col(\"path\"), col(\n",
    "    \"fruit\"), featurize_udf(\"content\").alias(\"features\"))\n",
    "features_df.printSchema()\n",
    "features_df.show()\n",
    "\n",
    "# features_df.write.mode(\"overwrite\").parquet(\"/photos_features\")"
   ]
  },
  {
   "cell_type": "code",
   "execution_count": 15,
   "id": "c2f7116a",
   "metadata": {
    "ExecuteTime": {
     "end_time": "2022-02-22T16:11:39.753373Z",
     "start_time": "2022-02-22T16:11:39.709809Z"
    }
   },
   "outputs": [
    {
     "data": {
      "text/plain": [
       "['path', 'fruit', 'features']"
      ]
     },
     "execution_count": 15,
     "metadata": {},
     "output_type": "execute_result"
    }
   ],
   "source": [
    "features_df.columns"
   ]
  },
  {
   "cell_type": "code",
   "execution_count": 16,
   "id": "4cbbb5d2",
   "metadata": {
    "ExecuteTime": {
     "end_time": "2022-02-22T16:11:44.199534Z",
     "start_time": "2022-02-22T16:11:43.993993Z"
    }
   },
   "outputs": [],
   "source": [
    "list_to_vector_udf = udf(lambda l: Vectors.dense(l), VectorUDT())\n",
    "features_df = features_df.select(\n",
    "    col(\"path\"), col(\"fruit\"),\n",
    "    list_to_vector_udf(features_df[\"features\"]).alias(\"features\")\n",
    ")"
   ]
  },
  {
   "cell_type": "markdown",
   "id": "fa9f915b",
   "metadata": {},
   "source": [
    "## Scaler"
   ]
  },
  {
   "cell_type": "code",
   "execution_count": 17,
   "id": "87d5fb0f",
   "metadata": {
    "ExecuteTime": {
     "end_time": "2022-02-22T16:11:47.014329Z",
     "start_time": "2022-02-22T16:11:47.011441Z"
    }
   },
   "outputs": [],
   "source": [
    "#from pyspark.sql.functions import monotonically_increasing_id\n",
    "\n",
    "#features_df = features_df.select(\"*\").withColumn(\"id\", monotonically_increasing_id())"
   ]
  },
  {
   "cell_type": "code",
   "execution_count": 19,
   "id": "1c01efb2",
   "metadata": {
    "ExecuteTime": {
     "end_time": "2022-02-22T16:12:11.176748Z",
     "start_time": "2022-02-22T16:11:58.240254Z"
    },
    "scrolled": false
   },
   "outputs": [
    {
     "name": "stderr",
     "output_type": "stream",
     "text": [
      "No supported GPU was found.                                         (0 + 7) / 7]\n",
      "No supported GPU was found.\n",
      "No supported GPU was found.\n",
      "AGX: agxa_device_template.hpp:3522:createUtilityProgramIfNeeded_block_invoke: *** Failed to compile Context Save Program\n",
      "AGX: agxa_device_template.hpp:3554:createUtilityProgramIfNeeded: *** Failed to create utility programs\n",
      "AGX: agxa_device_template.hpp:933:setupCompiler: *** Compiler setup failed.\n",
      "AGX: agxa_device_template.hpp:3522:createUtilityProgramIfNeeded_block_invoke: *** Failed to compile Context Save Program\n",
      "AGX: agxa_device_template.hpp:3554:createUtilityProgramIfNeeded: *** Failed to create utility programs\n",
      "AGX: agxa_device_template.hpp:3522:createUtilityProgramIfNeeded_block_invoke: *** Failed to compile Context Save Program\n",
      "AGX: agxa_device_template.hpp:3554:createUtilityProgramIfNeeded: *** Failed to create utility programs\n",
      "AGX: agxa_device_template.hpp:933:setupCompiler: *** Compiler setup failed.\n",
      "AGX: agxa_device_template.hpp:933:setupCompiler: *** Compiler setup failed.\n",
      "2022-02-22 17:12:05.681732: I tensorflow/compiler/mlir/mlir_graph_optimization_pass.cc:185] None of the MLIR Optimization Passes are enabled (registered 2)\n",
      "2022-02-22 17:12:05.681753: I tensorflow/compiler/mlir/mlir_graph_optimization_pass.cc:185] None of the MLIR Optimization Passes are enabled (registered 2)\n",
      "2022-02-22 17:12:05.681705: I tensorflow/compiler/mlir/mlir_graph_optimization_pass.cc:185] None of the MLIR Optimization Passes are enabled (registered 2)\n",
      "2022-02-22 17:12:05.695868: W tensorflow/core/platform/profile_utils/cpu_utils.cc:128] Failed to get CPU frequency: 0 Hz\n",
      "2022-02-22 17:12:05.695937: W tensorflow/core/platform/profile_utils/cpu_utils.cc:128] Failed to get CPU frequency: 0 Hz\n",
      "2022-02-22 17:12:05.695878: W tensorflow/core/platform/profile_utils/cpu_utils.cc:128] Failed to get CPU frequency: 0 Hz\n",
      "                                                                                \r"
     ]
    }
   ],
   "source": [
    "from pyspark.ml.feature import StandardScaler\n",
    "\n",
    "scaler = StandardScaler(inputCol=\"features\", outputCol=\"features_scaled\",\n",
    "                        withStd=True, withMean=True)\n",
    "\n",
    "# Compute summary statistics by fitting the StandardScaler\n",
    "scalerModel = scaler.fit(features_df)\n",
    "\n",
    "# Normalize each feature\n",
    "features_df_scaled = scalerModel.transform(features_df)"
   ]
  },
  {
   "cell_type": "code",
   "execution_count": 20,
   "id": "c51fed02",
   "metadata": {
    "ExecuteTime": {
     "end_time": "2022-02-22T16:12:47.129205Z",
     "start_time": "2022-02-22T16:12:24.653968Z"
    }
   },
   "outputs": [
    {
     "name": "stderr",
     "output_type": "stream",
     "text": [
      "22/02/22 17:12:24 WARN DAGScheduler: Broadcasting large task binary with size 1608.3 KiB\n",
      "22/02/22 17:12:28 WARN DAGScheduler: Broadcasting large task binary with size 1608.3 KiB\n",
      "WARNING:tensorflow:5 out of the last 5 calls to <function Model.make_predict_function.<locals>.predict_function at 0x14be6e790> triggered tf.function retracing. Tracing is expensive and the excessive number of tracings could be due to (1) creating @tf.function repeatedly in a loop, (2) passing tensors with different shapes, (3) passing Python objects instead of tensors. For (1), please define your @tf.function outside of the loop. For (2), @tf.function has experimental_relax_shapes=True option that relaxes argument shapes that can avoid unnecessary retracing. For (3), please refer to https://www.tensorflow.org/guide/function#controlling_retracing and https://www.tensorflow.org/api_docs/python/tf/function for  more details.\n",
      "No supported GPU was found.============>                            (2 + 2) / 4]\n",
      "No supported GPU was found.\n",
      "AGX: agxa_device_template.hpp:3522:createUtilityProgramIfNeeded_block_invoke: *** Failed to compile Context Save Program\n",
      "AGX: agxa_device_template.hpp:3522:createUtilityProgramIfNeeded_block_invoke: *** Failed to compile Context Save Program\n",
      "AGX: agxa_device_template.hpp:3554:createUtilityProgramIfNeeded: *** Failed to create utility programs\n",
      "AGX: agxa_device_template.hpp:3554:createUtilityProgramIfNeeded: *** Failed to create utility programs\n",
      "AGX: agxa_device_template.hpp:933:setupCompiler: *** Compiler setup failed.\n",
      "AGX: agxa_device_template.hpp:933:setupCompiler: *** Compiler setup failed.\n",
      "2022-02-22 17:12:35.155097: I tensorflow/compiler/mlir/mlir_graph_optimization_pass.cc:185] None of the MLIR Optimization Passes are enabled (registered 2)\n",
      "2022-02-22 17:12:35.155107: I tensorflow/compiler/mlir/mlir_graph_optimization_pass.cc:185] None of the MLIR Optimization Passes are enabled (registered 2)\n",
      "2022-02-22 17:12:35.175921: W tensorflow/core/platform/profile_utils/cpu_utils.cc:128] Failed to get CPU frequency: 0 Hz\n",
      "2022-02-22 17:12:35.175929: W tensorflow/core/platform/profile_utils/cpu_utils.cc:128] Failed to get CPU frequency: 0 Hz\n",
      "22/02/22 17:12:38 WARN DAGScheduler: Broadcasting large task binary with size 1608.3 KiB\n",
      "No supported GPU was found.============>                            (1 + 1) / 2]\n",
      "AGX: agxa_device_template.hpp:3522:createUtilityProgramIfNeeded_block_invoke: *** Failed to compile Context Save Program\n",
      "AGX: agxa_device_template.hpp:3554:createUtilityProgramIfNeeded: *** Failed to create utility programs\n",
      "AGX: agxa_device_template.hpp:933:setupCompiler: *** Compiler setup failed.\n",
      "2022-02-22 17:12:43.808158: I tensorflow/compiler/mlir/mlir_graph_optimization_pass.cc:185] None of the MLIR Optimization Passes are enabled (registered 2)\n",
      "2022-02-22 17:12:43.808542: W tensorflow/core/platform/profile_utils/cpu_utils.cc:128] Failed to get CPU frequency: 0 Hz\n",
      "                                                                                \r"
     ]
    },
    {
     "name": "stdout",
     "output_type": "stream",
     "text": [
      "+--------------------+------------------+--------------------+--------------------+\n",
      "|                path|             fruit|            features|     features_scaled|\n",
      "+--------------------+------------------+--------------------+--------------------+\n",
      "|file:/Users/louis...|  Strawberry Wedge|[0.0,0.0,0.0,0.0,...|[0.0,0.0,0.0,0.0,...|\n",
      "|file:/Users/louis...|  Strawberry Wedge|[0.0,0.0,0.0,0.0,...|[0.0,0.0,0.0,0.0,...|\n",
      "|file:/Users/louis...|     Passion Fruit|[0.0,0.0,0.0,0.0,...|[0.0,0.0,0.0,0.0,...|\n",
      "|file:/Users/louis...|          Cherry 1|[0.0,0.0,0.0,0.0,...|[0.0,0.0,0.0,0.0,...|\n",
      "|file:/Users/louis...|             Lemon|[0.0,0.0,0.0,0.0,...|[0.0,0.0,0.0,0.0,...|\n",
      "|file:/Users/louis...|     Passion Fruit|[0.0,0.0,0.0,0.0,...|[0.0,0.0,0.0,0.0,...|\n",
      "|file:/Users/louis...|             Lemon|[0.0,0.0,0.0,0.0,...|[0.0,0.0,0.0,0.0,...|\n",
      "|file:/Users/louis...|Apple Granny Smith|[0.0,0.0,0.0,0.0,...|[0.0,0.0,0.0,0.0,...|\n",
      "|file:/Users/louis...|Apple Granny Smith|[0.0,0.0,0.0,0.0,...|[0.0,0.0,0.0,0.0,...|\n",
      "|file:/Users/louis...|        Grape Blue|[0.0,0.0,0.0,0.0,...|[0.0,0.0,0.0,0.0,...|\n",
      "|file:/Users/louis...|          Cherry 1|[0.0,0.0,0.0,0.0,...|[0.0,0.0,0.0,0.0,...|\n",
      "|file:/Users/louis...|        Grape Blue|[0.0,0.0,0.0,0.0,...|[0.0,0.0,0.0,0.0,...|\n",
      "|file:/Users/louis...|            Banana|[0.0,0.0,0.0,0.0,...|[0.0,0.0,0.0,0.0,...|\n",
      "|file:/Users/louis...|            Banana|[0.0,0.0,0.0,0.0,...|[0.0,0.0,0.0,0.0,...|\n",
      "+--------------------+------------------+--------------------+--------------------+\n",
      "\n"
     ]
    }
   ],
   "source": [
    "features_df_scaled.show()"
   ]
  },
  {
   "cell_type": "markdown",
   "id": "032aedab",
   "metadata": {},
   "source": [
    "## PCA"
   ]
  },
  {
   "cell_type": "code",
   "execution_count": 24,
   "id": "ebb5670e",
   "metadata": {
    "ExecuteTime": {
     "end_time": "2022-02-22T16:24:07.693485Z",
     "start_time": "2022-02-22T16:18:51.129419Z"
    },
    "scrolled": false
   },
   "outputs": [
    {
     "name": "stderr",
     "output_type": "stream",
     "text": [
      "22/02/22 17:18:52 WARN DAGScheduler: Broadcasting large task binary with size 1612.2 KiB\n",
      "AGX: agxa_device_template.hpp:3522:createUtilityProgramIfNeeded_block_invoke: *** Failed to compile Context Save Program\n",
      "AGX: agxa_device_template.hpp:3554:createUtilityProgramIfNeeded: *** Failed to create utility programs\n",
      "AGX: agxa_device_template.hpp:933:setupCompiler: *** Compiler setup failed.\n",
      "No supported GPU was found.\n",
      "2022-02-22 17:18:57.263721: I tensorflow/compiler/mlir/mlir_graph_optimization_pass.cc:185] None of the MLIR Optimization Passes are enabled (registered 2)\n",
      "2022-02-22 17:18:57.298487: W tensorflow/core/platform/profile_utils/cpu_utils.cc:128] Failed to get CPU frequency: 0 Hz\n",
      "22/02/22 17:18:59 WARN DAGScheduler: Broadcasting large task binary with size 1616.3 KiB\n",
      "AGX: agxa_device_template.hpp:3522:createUtilityProgramIfNeeded_block_invoke: *** Failed to compile Context Save Program\n",
      "AGX: agxa_device_template.hpp:3554:createUtilityProgramIfNeeded: *** Failed to create utility programs\n",
      "AGX: agxa_device_template.hpp:933:setupCompiler: *** Compiler setup failed.\n",
      "No supported GPU was found.\n",
      "No supported GPU was found.\n",
      "No supported GPU was found.\n",
      "No supported GPU was found.\n",
      "No supported GPU was found.\n",
      "AGX: agxa_device_template.hpp:3522:createUtilityProgramIfNeeded_block_invoke: *** Failed to compile Context Save Program\n",
      "AGX: agxa_device_template.hpp:3522:createUtilityProgramIfNeeded_block_invoke: *** Failed to compile Context Save Program\n",
      "AGX: agxa_device_template.hpp:3554:createUtilityProgramIfNeeded: *** Failed to create utility programs\n",
      "AGX: agxa_device_template.hpp:3554:createUtilityProgramIfNeeded: *** Failed to create utility programs\n",
      "AGX: agxa_device_template.hpp:3522:createUtilityProgramIfNeeded_block_invoke: *** Failed to compile Context Save Program\n",
      "AGX: agxa_device_template.hpp:933:setupCompiler: *** Compiler setup failed.\n",
      "AGX: agxa_device_template.hpp:3554:createUtilityProgramIfNeeded: *** Failed to create utility programs\n",
      "AGX: agxa_device_template.hpp:933:setupCompiler: *** Compiler setup failed.\n",
      "AGX: agxa_device_template.hpp:933:setupCompiler: *** Compiler setup failed.\n",
      "AGX: agxa_device_template.hpp:3522:createUtilityProgramIfNeeded_block_invoke: *** Failed to compile Context Save Program\n",
      "AGX: agxa_device_template.hpp:3554:createUtilityProgramIfNeeded: *** Failed to create utility programs\n",
      "AGX: agxa_device_template.hpp:933:setupCompiler: *** Compiler setup failed.\n",
      "AGX: agxa_device_template.hpp:3522:createUtilityProgramIfNeeded_block_invoke: *** Failed to compile Context Save Program\n",
      "AGX: agxa_device_template.hpp:3554:createUtilityProgramIfNeeded: *** Failed to create utility programs\n",
      "AGX: agxa_device_template.hpp:933:setupCompiler: *** Compiler setup failed.\n",
      "No supported GPU was found.\n",
      "2022-02-22 17:19:10.214321: I tensorflow/compiler/mlir/mlir_graph_optimization_pass.cc:185] None of the MLIR Optimization Passes are enabled (registered 2)\n",
      "2022-02-22 17:19:10.214262: I tensorflow/compiler/mlir/mlir_graph_optimization_pass.cc:185] None of the MLIR Optimization Passes are enabled (registered 2)\n",
      "2022-02-22 17:19:10.214259: I tensorflow/compiler/mlir/mlir_graph_optimization_pass.cc:185] None of the MLIR Optimization Passes are enabled (registered 2)\n",
      "2022-02-22 17:19:10.214265: I tensorflow/compiler/mlir/mlir_graph_optimization_pass.cc:185] None of the MLIR Optimization Passes are enabled (registered 2)\n",
      "2022-02-22 17:19:10.214331: I tensorflow/compiler/mlir/mlir_graph_optimization_pass.cc:185] None of the MLIR Optimization Passes are enabled (registered 2)\n",
      "2022-02-22 17:19:10.214264: I tensorflow/compiler/mlir/mlir_graph_optimization_pass.cc:185] None of the MLIR Optimization Passes are enabled (registered 2)\n",
      "2022-02-22 17:19:10.222752: W tensorflow/core/platform/profile_utils/cpu_utils.cc:128] Failed to get CPU frequency: 0 Hz\n",
      "2022-02-22 17:19:10.222752: W tensorflow/core/platform/profile_utils/cpu_utils.cc:128] Failed to get CPU frequency: 0 Hz\n",
      "2022-02-22 17:19:10.222752: W tensorflow/core/platform/profile_utils/cpu_utils.cc:128] Failed to get CPU frequency: 0 Hz\n",
      "2022-02-22 17:19:10.222753: W tensorflow/core/platform/profile_utils/cpu_utils.cc:128] Failed to get CPU frequency: 0 Hz\n",
      "2022-02-22 17:19:10.222780: W tensorflow/core/platform/profile_utils/cpu_utils.cc:128] Failed to get CPU frequency: 0 Hz\n",
      "2022-02-22 17:19:10.222781: W tensorflow/core/platform/profile_utils/cpu_utils.cc:128] Failed to get CPU frequency: 0 Hz\n",
      "22/02/22 17:19:17 WARN DAGScheduler: Broadcasting large task binary with size 1617.4 KiB\n",
      "22/02/22 17:19:19 WARN DAGScheduler: Broadcasting large task binary with size 2.3 MiB\n",
      "22/02/22 17:19:20 WARN RowMatrix: The input data is not directly cached, which may hurt performance if its parent RDDs are also uncached.\n",
      "22/02/22 17:19:21 WARN InstanceBuilder$NativeARPACK: Failed to load implementation from:dev.ludovic.netlib.arpack.JNIARPACK\n",
      "22/02/22 17:19:22 WARN DAGScheduler: Broadcasting large task binary with size 3.9 MiB\n",
      "22/02/22 17:19:31 WARN BLAS: Failed to load implementation from: com.github.fommil.netlib.NativeSystemBLAS\n",
      "22/02/22 17:19:31 WARN BLAS: Failed to load implementation from: com.github.fommil.netlib.NativeRefBLAS\n",
      "No supported GPU was found.================================>        (6 + 1) / 7]\n",
      "AGX: agxa_device_template.hpp:3522:createUtilityProgramIfNeeded_block_invoke: *** Failed to compile Context Save Program\n",
      "AGX: agxa_device_template.hpp:3554:createUtilityProgramIfNeeded: *** Failed to create utility programs\n",
      "AGX: agxa_device_template.hpp:933:setupCompiler: *** Compiler setup failed.\n",
      "2022-02-22 17:19:35.484634: I tensorflow/compiler/mlir/mlir_graph_optimization_pass.cc:185] None of the MLIR Optimization Passes are enabled (registered 2)\n",
      "2022-02-22 17:19:35.490670: W tensorflow/core/platform/profile_utils/cpu_utils.cc:128] Failed to get CPU frequency: 0 Hz\n",
      "22/02/22 17:19:37 WARN DAGScheduler: Broadcasting large task binary with size 4.6 MiB\n",
      "22/02/22 17:19:38 WARN DAGScheduler: Broadcasting large task binary with size 3.9 MiB\n",
      "No supported GPU was found.================================>        (6 + 1) / 7]\n",
      "AGX: agxa_device_template.hpp:3522:createUtilityProgramIfNeeded_block_invoke: *** Failed to compile Context Save Program\n",
      "AGX: agxa_device_template.hpp:3554:createUtilityProgramIfNeeded: *** Failed to create utility programs\n",
      "AGX: agxa_device_template.hpp:933:setupCompiler: *** Compiler setup failed.\n",
      "2022-02-22 17:19:50.130152: I tensorflow/compiler/mlir/mlir_graph_optimization_pass.cc:185] None of the MLIR Optimization Passes are enabled (registered 2)\n",
      "2022-02-22 17:19:50.132000: W tensorflow/core/platform/profile_utils/cpu_utils.cc:128] Failed to get CPU frequency: 0 Hz\n",
      "22/02/22 17:19:52 WARN DAGScheduler: Broadcasting large task binary with size 4.6 MiB\n",
      "22/02/22 17:19:53 WARN DAGScheduler: Broadcasting large task binary with size 3.9 MiB\n",
      "22/02/22 17:20:10 WARN DAGScheduler: Broadcasting large task binary with size 4.6 MiB\n",
      "22/02/22 17:20:10 WARN DAGScheduler: Broadcasting large task binary with size 3.9 MiB\n",
      "WARNING:tensorflow:5 out of the last 5 calls to <function Model.make_predict_function.<locals>.predict_function at 0x14ce18790> triggered tf.function retracing. Tracing is expensive and the excessive number of tracings could be due to (1) creating @tf.function repeatedly in a loop, (2) passing tensors with different shapes, (3) passing Python objects instead of tensors. For (1), please define your @tf.function outside of the loop. For (2), @tf.function has experimental_relax_shapes=True option that relaxes argument shapes that can avoid unnecessary retracing. For (3), please refer to https://www.tensorflow.org/guide/function#controlling_retracing and https://www.tensorflow.org/api_docs/python/tf/function for  more details.\n",
      "WARNING:tensorflow:5 out of the last 5 calls to <function Model.make_predict_function.<locals>.predict_function at 0x14d618790> triggered tf.function retracing. Tracing is expensive and the excessive number of tracings could be due to (1) creating @tf.function repeatedly in a loop, (2) passing tensors with different shapes, (3) passing Python objects instead of tensors. For (1), please define your @tf.function outside of the loop. For (2), @tf.function has experimental_relax_shapes=True option that relaxes argument shapes that can avoid unnecessary retracing. For (3), please refer to https://www.tensorflow.org/guide/function#controlling_retracing and https://www.tensorflow.org/api_docs/python/tf/function for  more details.\n",
      "WARNING:tensorflow:5 out of the last 5 calls to <function Model.make_predict_function.<locals>.predict_function at 0x14cc98790> triggered tf.function retracing. Tracing is expensive and the excessive number of tracings could be due to (1) creating @tf.function repeatedly in a loop, (2) passing tensors with different shapes, (3) passing Python objects instead of tensors. For (1), please define your @tf.function outside of the loop. For (2), @tf.function has experimental_relax_shapes=True option that relaxes argument shapes that can avoid unnecessary retracing. For (3), please refer to https://www.tensorflow.org/guide/function#controlling_retracing and https://www.tensorflow.org/api_docs/python/tf/function for  more details.\n",
      "WARNING:tensorflow:5 out of the last 5 calls to <function Model.make_predict_function.<locals>.predict_function at 0x14d818790> triggered tf.function retracing. Tracing is expensive and the excessive number of tracings could be due to (1) creating @tf.function repeatedly in a loop, (2) passing tensors with different shapes, (3) passing Python objects instead of tensors. For (1), please define your @tf.function outside of the loop. For (2), @tf.function has experimental_relax_shapes=True option that relaxes argument shapes that can avoid unnecessary retracing. For (3), please refer to https://www.tensorflow.org/guide/function#controlling_retracing and https://www.tensorflow.org/api_docs/python/tf/function for  more details.\n",
      "WARNING:tensorflow:5 out of the last 5 calls to <function Model.make_predict_function.<locals>.predict_function at 0x14cdc0790> triggered tf.function retracing. Tracing is expensive and the excessive number of tracings could be due to (1) creating @tf.function repeatedly in a loop, (2) passing tensors with different shapes, (3) passing Python objects instead of tensors. For (1), please define your @tf.function outside of the loop. For (2), @tf.function has experimental_relax_shapes=True option that relaxes argument shapes that can avoid unnecessary retracing. For (3), please refer to https://www.tensorflow.org/guide/function#controlling_retracing and https://www.tensorflow.org/api_docs/python/tf/function for  more details.\n",
      "WARNING:tensorflow:5 out of the last 5 calls to <function Model.make_predict_function.<locals>.predict_function at 0x14cd18790> triggered tf.function retracing. Tracing is expensive and the excessive number of tracings could be due to (1) creating @tf.function repeatedly in a loop, (2) passing tensors with different shapes, (3) passing Python objects instead of tensors. For (1), please define your @tf.function outside of the loop. For (2), @tf.function has experimental_relax_shapes=True option that relaxes argument shapes that can avoid unnecessary retracing. For (3), please refer to https://www.tensorflow.org/guide/function#controlling_retracing and https://www.tensorflow.org/api_docs/python/tf/function for  more details.\n"
     ]
    },
    {
     "name": "stderr",
     "output_type": "stream",
     "text": [
      "WARNING:tensorflow:5 out of the last 5 calls to <function Model.make_predict_function.<locals>.predict_function at 0x152c043a0> triggered tf.function retracing. Tracing is expensive and the excessive number of tracings could be due to (1) creating @tf.function repeatedly in a loop, (2) passing tensors with different shapes, (3) passing Python objects instead of tensors. For (1), please define your @tf.function outside of the loop. For (2), @tf.function has experimental_relax_shapes=True option that relaxes argument shapes that can avoid unnecessary retracing. For (3), please refer to https://www.tensorflow.org/guide/function#controlling_retracing and https://www.tensorflow.org/api_docs/python/tf/function for  more details.\n",
      "22/02/22 17:20:29 WARN DAGScheduler: Broadcasting large task binary with size 4.6 MiB\n",
      "22/02/22 17:20:30 WARN DAGScheduler: Broadcasting large task binary with size 3.9 MiB\n",
      "WARNING:tensorflow:6 out of the last 6 calls to <function Model.make_predict_function.<locals>.predict_function at 0x14d618790> triggered tf.function retracing. Tracing is expensive and the excessive number of tracings could be due to (1) creating @tf.function repeatedly in a loop, (2) passing tensors with different shapes, (3) passing Python objects instead of tensors. For (1), please define your @tf.function outside of the loop. For (2), @tf.function has experimental_relax_shapes=True option that relaxes argument shapes that can avoid unnecessary retracing. For (3), please refer to https://www.tensorflow.org/guide/function#controlling_retracing and https://www.tensorflow.org/api_docs/python/tf/function for  more details.\n",
      "WARNING:tensorflow:6 out of the last 6 calls to <function Model.make_predict_function.<locals>.predict_function at 0x14d818790> triggered tf.function retracing. Tracing is expensive and the excessive number of tracings could be due to (1) creating @tf.function repeatedly in a loop, (2) passing tensors with different shapes, (3) passing Python objects instead of tensors. For (1), please define your @tf.function outside of the loop. For (2), @tf.function has experimental_relax_shapes=True option that relaxes argument shapes that can avoid unnecessary retracing. For (3), please refer to https://www.tensorflow.org/guide/function#controlling_retracing and https://www.tensorflow.org/api_docs/python/tf/function for  more details.\n",
      "WARNING:tensorflow:6 out of the last 6 calls to <function Model.make_predict_function.<locals>.predict_function at 0x14cdc0790> triggered tf.function retracing. Tracing is expensive and the excessive number of tracings could be due to (1) creating @tf.function repeatedly in a loop, (2) passing tensors with different shapes, (3) passing Python objects instead of tensors. For (1), please define your @tf.function outside of the loop. For (2), @tf.function has experimental_relax_shapes=True option that relaxes argument shapes that can avoid unnecessary retracing. For (3), please refer to https://www.tensorflow.org/guide/function#controlling_retracing and https://www.tensorflow.org/api_docs/python/tf/function for  more details.\n",
      "WARNING:tensorflow:6 out of the last 6 calls to <function Model.make_predict_function.<locals>.predict_function at 0x14ce18790> triggered tf.function retracing. Tracing is expensive and the excessive number of tracings could be due to (1) creating @tf.function repeatedly in a loop, (2) passing tensors with different shapes, (3) passing Python objects instead of tensors. For (1), please define your @tf.function outside of the loop. For (2), @tf.function has experimental_relax_shapes=True option that relaxes argument shapes that can avoid unnecessary retracing. For (3), please refer to https://www.tensorflow.org/guide/function#controlling_retracing and https://www.tensorflow.org/api_docs/python/tf/function for  more details.\n",
      "WARNING:tensorflow:6 out of the last 6 calls to <function Model.make_predict_function.<locals>.predict_function at 0x14cd18790> triggered tf.function retracing. Tracing is expensive and the excessive number of tracings could be due to (1) creating @tf.function repeatedly in a loop, (2) passing tensors with different shapes, (3) passing Python objects instead of tensors. For (1), please define your @tf.function outside of the loop. For (2), @tf.function has experimental_relax_shapes=True option that relaxes argument shapes that can avoid unnecessary retracing. For (3), please refer to https://www.tensorflow.org/guide/function#controlling_retracing and https://www.tensorflow.org/api_docs/python/tf/function for  more details.\n",
      "WARNING:tensorflow:6 out of the last 6 calls to <function Model.make_predict_function.<locals>.predict_function at 0x152b483a0> triggered tf.function retracing. Tracing is expensive and the excessive number of tracings could be due to (1) creating @tf.function repeatedly in a loop, (2) passing tensors with different shapes, (3) passing Python objects instead of tensors. For (1), please define your @tf.function outside of the loop. For (2), @tf.function has experimental_relax_shapes=True option that relaxes argument shapes that can avoid unnecessary retracing. For (3), please refer to https://www.tensorflow.org/guide/function#controlling_retracing and https://www.tensorflow.org/api_docs/python/tf/function for  more details.\n",
      "AGX: agxa_device_template.hpp:3522:createUtilityProgramIfNeeded_block_invoke: *** Failed to compile Context Save Program\n",
      "AGX: agxa_device_template.hpp:3554:createUtilityProgramIfNeeded: *** Failed to create utility programs\n",
      "AGX: agxa_device_template.hpp:933:setupCompiler: *** Compiler setup failed.\n",
      "2022-02-22 17:20:47.353789: I tensorflow/compiler/mlir/mlir_graph_optimization_pass.cc:185] None of the MLIR Optimization Passes are enabled (registered 2)\n",
      "No supported GPU was found.\n",
      "2022-02-22 17:20:47.416554: W tensorflow/core/platform/profile_utils/cpu_utils.cc:128] Failed to get CPU frequency: 0 Hz\n",
      "22/02/22 17:20:51 WARN DAGScheduler: Broadcasting large task binary with size 4.6 MiB\n",
      "22/02/22 17:20:53 WARN DAGScheduler: Broadcasting large task binary with size 3.9 MiB\n",
      "22/02/22 17:21:07 WARN DAGScheduler: Broadcasting large task binary with size 4.6 MiB\n",
      "22/02/22 17:21:07 WARN DAGScheduler: Broadcasting large task binary with size 3.9 MiB\n",
      "22/02/22 17:21:20 WARN DAGScheduler: Broadcasting large task binary with size 4.6 MiB\n",
      "22/02/22 17:21:21 WARN DAGScheduler: Broadcasting large task binary with size 3.9 MiB\n",
      "22/02/22 17:21:37 WARN DAGScheduler: Broadcasting large task binary with size 4.6 MiB\n",
      "22/02/22 17:21:37 WARN DAGScheduler: Broadcasting large task binary with size 3.9 MiB\n",
      "WARNING:tensorflow:5 out of the last 5 calls to <function Model.make_predict_function.<locals>.predict_function at 0x14d6b58b0> triggered tf.function retracing. Tracing is expensive and the excessive number of tracings could be due to (1) creating @tf.function repeatedly in a loop, (2) passing tensors with different shapes, (3) passing Python objects instead of tensors. For (1), please define your @tf.function outside of the loop. For (2), @tf.function has experimental_relax_shapes=True option that relaxes argument shapes that can avoid unnecessary retracing. For (3), please refer to https://www.tensorflow.org/guide/function#controlling_retracing and https://www.tensorflow.org/api_docs/python/tf/function for  more details.\n",
      "22/02/22 17:21:57 WARN DAGScheduler: Broadcasting large task binary with size 4.6 MiB\n",
      "22/02/22 17:21:58 WARN DAGScheduler: Broadcasting large task binary with size 3.9 MiB\n",
      "WARNING:tensorflow:6 out of the last 6 calls to <function Model.make_predict_function.<locals>.predict_function at 0x14d6b58b0> triggered tf.function retracing. Tracing is expensive and the excessive number of tracings could be due to (1) creating @tf.function repeatedly in a loop, (2) passing tensors with different shapes, (3) passing Python objects instead of tensors. For (1), please define your @tf.function outside of the loop. For (2), @tf.function has experimental_relax_shapes=True option that relaxes argument shapes that can avoid unnecessary retracing. For (3), please refer to https://www.tensorflow.org/guide/function#controlling_retracing and https://www.tensorflow.org/api_docs/python/tf/function for  more details.\n"
     ]
    },
    {
     "name": "stderr",
     "output_type": "stream",
     "text": [
      "22/02/22 17:22:15 WARN DAGScheduler: Broadcasting large task binary with size 4.6 MiB\n",
      "22/02/22 17:22:16 WARN DAGScheduler: Broadcasting large task binary with size 3.9 MiB\n",
      "22/02/22 17:22:27 WARN DAGScheduler: Broadcasting large task binary with size 4.6 MiB\n",
      "22/02/22 17:22:28 WARN DAGScheduler: Broadcasting large task binary with size 3.9 MiB\n",
      "22/02/22 17:22:51 WARN DAGScheduler: Broadcasting large task binary with size 4.6 MiB\n",
      "22/02/22 17:22:52 WARN DAGScheduler: Broadcasting large task binary with size 3.9 MiB\n",
      "22/02/22 17:23:14 WARN DAGScheduler: Broadcasting large task binary with size 4.6 MiB\n",
      "22/02/22 17:23:14 WARN DAGScheduler: Broadcasting large task binary with size 3.9 MiB\n",
      "22/02/22 17:23:26 WARN DAGScheduler: Broadcasting large task binary with size 4.6 MiB\n",
      "22/02/22 17:23:26 WARN DAGScheduler: Broadcasting large task binary with size 3.9 MiB\n",
      "22/02/22 17:23:34 WARN DAGScheduler: Broadcasting large task binary with size 4.6 MiB\n",
      "22/02/22 17:23:35 WARN DAGScheduler: Broadcasting large task binary with size 3.9 MiB\n",
      "22/02/22 17:23:39 WARN DAGScheduler: Broadcasting large task binary with size 4.6 MiB\n",
      "22/02/22 17:23:40 WARN DAGScheduler: Broadcasting large task binary with size 3.9 MiB\n",
      "22/02/22 17:23:45 WARN DAGScheduler: Broadcasting large task binary with size 4.6 MiB\n",
      "22/02/22 17:23:46 WARN DAGScheduler: Broadcasting large task binary with size 3.9 MiB\n",
      "22/02/22 17:23:52 WARN DAGScheduler: Broadcasting large task binary with size 4.6 MiB\n",
      "22/02/22 17:23:53 WARN DAGScheduler: Broadcasting large task binary with size 3.9 MiB\n",
      "22/02/22 17:23:58 WARN DAGScheduler: Broadcasting large task binary with size 4.6 MiB\n",
      "22/02/22 17:23:58 WARN DAGScheduler: Broadcasting large task binary with size 3.9 MiB\n",
      "22/02/22 17:24:05 WARN DAGScheduler: Broadcasting large task binary with size 4.6 MiB\n",
      "22/02/22 17:24:07 WARN RowMatrix: The input data was not directly cached, which may hurt performance if its parent RDDs are also uncached.\n"
     ]
    }
   ],
   "source": [
    "from pyspark.ml.feature import PCA\n",
    "from pyspark.ml.linalg import Vectors\n",
    "\n",
    "k = 10\n",
    "\n",
    "pca = PCA(k=k, inputCol=\"features_scaled\", outputCol=\"pcaFeatures\")\n",
    "model = pca.fit(features_df_scaled)\n",
    "\n",
    "result = model.transform(features_df_scaled)"
   ]
  },
  {
   "cell_type": "code",
   "execution_count": 25,
   "id": "1bbf14ea",
   "metadata": {
    "ExecuteTime": {
     "end_time": "2022-02-22T16:26:19.364088Z",
     "start_time": "2022-02-22T16:26:05.004247Z"
    }
   },
   "outputs": [
    {
     "name": "stderr",
     "output_type": "stream",
     "text": [
      "22/02/22 17:26:05 WARN DAGScheduler: Broadcasting large task binary with size 9.2 MiB\n",
      "No supported GPU was found.                                         (0 + 1) / 1]\n",
      "AGX: agxa_device_template.hpp:3522:createUtilityProgramIfNeeded_block_invoke: *** Failed to compile Context Save Program\n",
      "AGX: agxa_device_template.hpp:3554:createUtilityProgramIfNeeded: *** Failed to create utility programs\n",
      "AGX: agxa_device_template.hpp:933:setupCompiler: *** Compiler setup failed.\n",
      "2022-02-22 17:26:08.596672: I tensorflow/compiler/mlir/mlir_graph_optimization_pass.cc:185] None of the MLIR Optimization Passes are enabled (registered 2)\n",
      "2022-02-22 17:26:08.597268: W tensorflow/core/platform/profile_utils/cpu_utils.cc:128] Failed to get CPU frequency: 0 Hz\n",
      "22/02/22 17:26:10 WARN DAGScheduler: Broadcasting large task binary with size 9.2 MiB\n",
      "AGX: agxa_device_template.hpp:3522:createUtilityProgramIfNeeded_block_invoke: *** Failed to compile Context Save Program\n",
      "AGX: agxa_device_template.hpp:3554:createUtilityProgramIfNeeded: *** Failed to create utility programs\n",
      "AGX: agxa_device_template.hpp:933:setupCompiler: *** Compiler setup failed.\n",
      "No supported GPU was found.\n",
      "AGX: agxa_device_template.hpp:3522:createUtilityProgramIfNeeded_block_invoke: *** Failed to compile Context Save Program\n",
      "AGX: agxa_device_template.hpp:3554:createUtilityProgramIfNeeded: *** Failed to create utility programs\n",
      "AGX: agxa_device_template.hpp:933:setupCompiler: *** Compiler setup failed.\n",
      "No supported GPU was found.\n",
      "AGX: agxa_device_template.hpp:3522:createUtilityProgramIfNeeded_block_invoke: *** Failed to compile Context Save Program\n",
      "AGX: agxa_device_template.hpp:3554:createUtilityProgramIfNeeded: *** Failed to create utility programs\n",
      "AGX: agxa_device_template.hpp:933:setupCompiler: *** Compiler setup failed.\n",
      "No supported GPU was found.\n",
      "2022-02-22 17:26:12.660035: I tensorflow/compiler/mlir/mlir_graph_optimization_pass.cc:185] None of the MLIR Optimization Passes are enabled (registered 2)\n",
      "2022-02-22 17:26:12.660524: W tensorflow/core/platform/profile_utils/cpu_utils.cc:128] Failed to get CPU frequency: 0 Hz\n",
      "2022-02-22 17:26:12.683106: I tensorflow/compiler/mlir/mlir_graph_optimization_pass.cc:185] None of the MLIR Optimization Passes are enabled (registered 2)\n",
      "2022-02-22 17:26:12.683821: W tensorflow/core/platform/profile_utils/cpu_utils.cc:128] Failed to get CPU frequency: 0 Hz\n",
      "2022-02-22 17:26:12.701600: I tensorflow/compiler/mlir/mlir_graph_optimization_pass.cc:185] None of the MLIR Optimization Passes are enabled (registered 2)\n",
      "2022-02-22 17:26:12.701974: W tensorflow/core/platform/profile_utils/cpu_utils.cc:128] Failed to get CPU frequency: 0 Hz\n",
      "22/02/22 17:26:14 WARN DAGScheduler: Broadcasting large task binary with size 9.2 MiB\n",
      "AGX: agxa_device_template.hpp:3522:createUtilityProgramIfNeeded_block_invoke: *** Failed to compile Context Save Program\n",
      "AGX: agxa_device_template.hpp:3554:createUtilityProgramIfNeeded: *** Failed to create utility programs\n",
      "AGX: agxa_device_template.hpp:933:setupCompiler: *** Compiler setup failed.\n",
      "No supported GPU was found.\n",
      "2022-02-22 17:26:16.880257: I tensorflow/compiler/mlir/mlir_graph_optimization_pass.cc:185] None of the MLIR Optimization Passes are enabled (registered 2)\n",
      "2022-02-22 17:26:16.880721: W tensorflow/core/platform/profile_utils/cpu_utils.cc:128] Failed to get CPU frequency: 0 Hz\n",
      "                                                                                \r"
     ]
    },
    {
     "name": "stdout",
     "output_type": "stream",
     "text": [
      "+--------------------+------------------+--------------------+--------------------+--------------------+\n",
      "|                path|             fruit|            features|     features_scaled|         pcaFeatures|\n",
      "+--------------------+------------------+--------------------+--------------------+--------------------+\n",
      "|file:/Users/louis...|  Strawberry Wedge|[0.0,0.0,0.0,0.0,...|[0.0,0.0,0.0,0.0,...|[-21.635252152899...|\n",
      "|file:/Users/louis...|  Strawberry Wedge|[0.0,0.0,0.0,0.0,...|[0.0,0.0,0.0,0.0,...|[-26.000399718868...|\n",
      "|file:/Users/louis...|     Passion Fruit|[0.0,0.0,0.0,0.0,...|[0.0,0.0,0.0,0.0,...|[-33.429905991287...|\n",
      "|file:/Users/louis...|          Cherry 1|[0.0,0.0,0.0,0.0,...|[0.0,0.0,0.0,0.0,...|[-45.087798468849...|\n",
      "|file:/Users/louis...|             Lemon|[0.0,0.0,0.0,0.0,...|[0.0,0.0,0.0,0.0,...|[-22.595209337334...|\n",
      "|file:/Users/louis...|     Passion Fruit|[0.0,0.0,0.0,0.0,...|[0.0,0.0,0.0,0.0,...|[-35.267946625506...|\n",
      "|file:/Users/louis...|             Lemon|[0.0,0.0,0.0,0.0,...|[0.0,0.0,0.0,0.0,...|[-21.015872633276...|\n",
      "|file:/Users/louis...|Apple Granny Smith|[0.0,0.0,0.0,0.0,...|[0.0,0.0,0.0,0.0,...|[-45.698116947003...|\n",
      "|file:/Users/louis...|Apple Granny Smith|[0.0,0.0,0.0,0.0,...|[0.0,0.0,0.0,0.0,...|[-22.080669420196...|\n",
      "|file:/Users/louis...|        Grape Blue|[0.0,0.0,0.0,0.0,...|[0.0,0.0,0.0,0.0,...|[-32.766401971576...|\n",
      "|file:/Users/louis...|          Cherry 1|[0.0,0.0,0.0,0.0,...|[0.0,0.0,0.0,0.0,...|[-31.846223657980...|\n",
      "|file:/Users/louis...|        Grape Blue|[0.0,0.0,0.0,0.0,...|[0.0,0.0,0.0,0.0,...|[-31.999184035969...|\n",
      "|file:/Users/louis...|            Banana|[0.0,0.0,0.0,0.0,...|[0.0,0.0,0.0,0.0,...|[326.131846253951...|\n",
      "|file:/Users/louis...|            Banana|[0.0,0.0,0.0,0.0,...|[0.0,0.0,0.0,0.0,...|[43.2911347067992...|\n",
      "+--------------------+------------------+--------------------+--------------------+--------------------+\n",
      "\n"
     ]
    }
   ],
   "source": [
    "result.show()"
   ]
  },
  {
   "cell_type": "code",
   "execution_count": 115,
   "id": "fd0a5911",
   "metadata": {
    "ExecuteTime": {
     "end_time": "2022-02-23T12:16:57.690669Z",
     "start_time": "2022-02-23T12:16:57.601881Z"
    },
    "scrolled": false
   },
   "outputs": [
    {
     "name": "stdout",
     "output_type": "stream",
     "text": [
      "[0.17332571 0.29674035 0.41484642 0.52127224 0.61479798 0.70585412\n",
      " 0.79230988 0.87307638 0.94006412 1.        ]\n"
     ]
    },
    {
     "data": {
      "image/png": "[encoded data removed]",
      "text/plain": [
       "<Figure size 720x360 with 1 Axes>"
      ]
     },
     "metadata": {
      "needs_background": "light"
     },
     "output_type": "display_data"
    }
   ],
   "source": [
    "ratios = model.explainedVariance\n",
    "print(ratios.cumsum())\n",
    "\n",
    "plt.figure(figsize=(10, 5))\n",
    "plt.plot(range(len(ratios)), ratios.cumsum())\n",
    "plt.xticks(range(len(ratios)))\n",
    "plt.title(\"Pourcentage de variance expliquée par composantes\")\n",
    "plt.xlabel(\"Composantes principales\")\n",
    "plt.ylabel(\"% de variance expliquée\")\n",
    "plt.axhline(0.95, lw=1, c='red')\n",
    "plt.text(1, 0.95, '95%', c='red')\n",
    "plt.show()"
   ]
  },
  {
   "cell_type": "markdown",
   "id": "cd1453a5",
   "metadata": {},
   "source": [
    "## Export des résultats"
   ]
  },
  {
   "cell_type": "code",
   "execution_count": 30,
   "id": "16808407",
   "metadata": {
    "ExecuteTime": {
     "end_time": "2022-02-22T16:34:01.167139Z",
     "start_time": "2022-02-22T16:33:38.293062Z"
    },
    "scrolled": false
   },
   "outputs": [
    {
     "name": "stderr",
     "output_type": "stream",
     "text": [
      "22/02/22 17:33:38 WARN DAGScheduler: Broadcasting large task binary with size 9.2 MiB\n",
      "No supported GPU was found.                                         (0 + 7) / 7]\n",
      "No supported GPU was found.\n",
      "No supported GPU was found.\n",
      "No supported GPU was found.\n",
      "No supported GPU was found.\n",
      "No supported GPU was found.\n",
      "No supported GPU was found.\n",
      "AGX: agxa_device_template.hpp:3522:createUtilityProgramIfNeeded_block_invoke: *** Failed to compile Context Save Program\n",
      "AGX: agxa_device_template.hpp:3522:createUtilityProgramIfNeeded_block_invoke: *** Failed to compile Context Save Program\n",
      "AGX: agxa_device_template.hpp:3522:createUtilityProgramIfNeeded_block_invoke: *** Failed to compile Context Save Program\n",
      "AGX: agxa_device_template.hpp:3554:createUtilityProgramIfNeeded: *** Failed to create utility programs\n",
      "AGX: agxa_device_template.hpp:3554:createUtilityProgramIfNeeded: *** Failed to create utility programs\n",
      "AGX: agxa_device_template.hpp:3554:createUtilityProgramIfNeeded: *** Failed to create utility programs\n",
      "AGX: agxa_device_template.hpp:3522:createUtilityProgramIfNeeded_block_invoke: *** Failed to compile Context Save Program\n",
      "AGX: agxa_device_template.hpp:3522:createUtilityProgramIfNeeded_block_invoke: *** Failed to compile Context Save Program\n",
      "AGX: agxa_device_template.hpp:3554:createUtilityProgramIfNeeded: *** Failed to create utility programs\n",
      "AGX: agxa_device_template.hpp:3522:createUtilityProgramIfNeeded_block_invoke: *** Failed to compile Context Save Program\n",
      "AGX: agxa_device_template.hpp:3554:createUtilityProgramIfNeeded: *** Failed to create utility programs\n",
      "AGX: agxa_device_template.hpp:3554:createUtilityProgramIfNeeded: *** Failed to create utility programs\n",
      "AGX: agxa_device_template.hpp:3522:createUtilityProgramIfNeeded_block_invoke: *** Failed to compile Context Save Program\n",
      "AGX: agxa_device_template.hpp:3554:createUtilityProgramIfNeeded: *** Failed to create utility programs\n",
      "AGX: agxa_device_template.hpp:933:setupCompiler: *** Compiler setup failed.\n",
      "AGX: agxa_device_template.hpp:933:setupCompiler: *** Compiler setup failed.\n",
      "AGX: agxa_device_template.hpp:933:setupCompiler: *** Compiler setup failed.\n",
      "AGX: agxa_device_template.hpp:933:setupCompiler: *** Compiler setup failed.\n",
      "AGX: agxa_device_template.hpp:933:setupCompiler: *** Compiler setup failed.\n",
      "AGX: agxa_device_template.hpp:933:setupCompiler: *** Compiler setup failed.\n",
      "AGX: agxa_device_template.hpp:933:setupCompiler: *** Compiler setup failed.\n",
      "2022-02-22 17:33:43.562270: I tensorflow/compiler/mlir/mlir_graph_optimization_pass.cc:185] None of the MLIR Optimization Passes are enabled (registered 2)\n",
      "2022-02-22 17:33:43.562271: I tensorflow/compiler/mlir/mlir_graph_optimization_pass.cc:185] None of the MLIR Optimization Passes are enabled (registered 2)\n",
      "2022-02-22 17:33:43.562275: I tensorflow/compiler/mlir/mlir_graph_optimization_pass.cc:185] None of the MLIR Optimization Passes are enabled (registered 2)\n",
      "2022-02-22 17:33:43.562258: I tensorflow/compiler/mlir/mlir_graph_optimization_pass.cc:185] None of the MLIR Optimization Passes are enabled (registered 2)\n",
      "2022-02-22 17:33:43.562275: I tensorflow/compiler/mlir/mlir_graph_optimization_pass.cc:185] None of the MLIR Optimization Passes are enabled (registered 2)\n",
      "2022-02-22 17:33:43.562247: I tensorflow/compiler/mlir/mlir_graph_optimization_pass.cc:185] None of the MLIR Optimization Passes are enabled (registered 2)\n",
      "2022-02-22 17:33:43.562348: I tensorflow/compiler/mlir/mlir_graph_optimization_pass.cc:185] None of the MLIR Optimization Passes are enabled (registered 2)\n",
      "2022-02-22 17:33:43.581253: W tensorflow/core/platform/profile_utils/cpu_utils.cc:128] Failed to get CPU frequency: 0 Hz\n",
      "2022-02-22 17:33:43.581238: W tensorflow/core/platform/profile_utils/cpu_utils.cc:128] Failed to get CPU frequency: 0 Hz\n",
      "2022-02-22 17:33:43.581232: W tensorflow/core/platform/profile_utils/cpu_utils.cc:128] Failed to get CPU frequency: 0 Hz\n",
      "2022-02-22 17:33:43.581299: W tensorflow/core/platform/profile_utils/cpu_utils.cc:128] Failed to get CPU frequency: 0 Hz\n",
      "2022-02-22 17:33:43.581416: W tensorflow/core/platform/profile_utils/cpu_utils.cc:128] Failed to get CPU frequency: 0 Hz\n",
      "2022-02-22 17:33:43.581316: W tensorflow/core/platform/profile_utils/cpu_utils.cc:128] Failed to get CPU frequency: 0 Hz\n",
      "2022-02-22 17:33:43.581250: W tensorflow/core/platform/profile_utils/cpu_utils.cc:128] Failed to get CPU frequency: 0 Hz\n",
      "22/02/22 17:33:51 WARN DAGScheduler: Broadcasting large task binary with size 9.4 MiB\n",
      "                                                                                \r"
     ]
    }
   ],
   "source": [
    "result_pandas = result.toPandas()\n",
    "result.write.parquet(\n",
    "    '/Users/louisrageot/Desktop/OC DS/Projet 8 - Déployez une application sur le cloud/Livrables.nosync/results.parquet')"
   ]
  },
  {
   "cell_type": "code",
   "execution_count": 31,
   "id": "60391862",
   "metadata": {
    "ExecuteTime": {
     "end_time": "2022-02-22T16:39:56.867315Z",
     "start_time": "2022-02-22T16:39:56.812999Z"
    }
   },
   "outputs": [
    {
     "data": {
      "text/html": [
       "<div>\n",
       "<style scoped>\n",
       "    .dataframe tbody tr th:only-of-type {\n",
       "        vertical-align: middle;\n",
       "    }\n",
       "\n",
       "    .dataframe tbody tr th {\n",
       "        vertical-align: top;\n",
       "    }\n",
       "\n",
       "    .dataframe thead th {\n",
       "        text-align: right;\n",
       "    }\n",
       "</style>\n",
       "<table border=\"1\" class=\"dataframe\">\n",
       "  <thead>\n",
       "    <tr style=\"text-align: right;\">\n",
       "      <th></th>\n",
       "      <th>path</th>\n",
       "      <th>fruit</th>\n",
       "      <th>features</th>\n",
       "      <th>features_scaled</th>\n",
       "      <th>pcaFeatures</th>\n",
       "    </tr>\n",
       "  </thead>\n",
       "  <tbody>\n",
       "    <tr>\n",
       "      <th>0</th>\n",
       "      <td>file:/Users/louisrageot/Desktop/OC DS/Projet 8...</td>\n",
       "      <td>Strawberry Wedge</td>\n",
       "      <td>[0.0, 0.0, 0.0, 0.0, 0.0, 0.0, 0.0, 0.0, 0.0, ...</td>\n",
       "      <td>[0.0, 0.0, 0.0, 0.0, 0.0, 0.0, -0.294306426029...</td>\n",
       "      <td>[-21.63525215289909, 69.6794680535544, 21.3410...</td>\n",
       "    </tr>\n",
       "    <tr>\n",
       "      <th>1</th>\n",
       "      <td>file:/Users/louisrageot/Desktop/OC DS/Projet 8...</td>\n",
       "      <td>Strawberry Wedge</td>\n",
       "      <td>[0.0, 0.0, 0.0, 0.0, 0.0, 0.0, 0.0, 0.0, 0.0, ...</td>\n",
       "      <td>[0.0, 0.0, 0.0, 0.0, 0.0, 0.0, -0.294306426029...</td>\n",
       "      <td>[-26.000399718868877, 252.1703857897934, 45.55...</td>\n",
       "    </tr>\n",
       "    <tr>\n",
       "      <th>2</th>\n",
       "      <td>file:/Users/louisrageot/Desktop/OC DS/Projet 8...</td>\n",
       "      <td>Passion Fruit</td>\n",
       "      <td>[0.0, 0.0, 0.0, 0.0, 0.0, 0.0, 0.0, 0.0, 0.0, ...</td>\n",
       "      <td>[0.0, 0.0, 0.0, 0.0, 0.0, 0.0, -0.294306426029...</td>\n",
       "      <td>[-33.42990599128716, -53.087411142709804, -21....</td>\n",
       "    </tr>\n",
       "    <tr>\n",
       "      <th>3</th>\n",
       "      <td>file:/Users/louisrageot/Desktop/OC DS/Projet 8...</td>\n",
       "      <td>Cherry 1</td>\n",
       "      <td>[0.0, 0.0, 0.0, 0.0, 0.0, 0.0, 0.0, 0.0, 0.0, ...</td>\n",
       "      <td>[0.0, 0.0, 0.0, 0.0, 0.0, 0.0, -0.294306426029...</td>\n",
       "      <td>[-45.087798468849925, -24.3352910338139, -31.9...</td>\n",
       "    </tr>\n",
       "    <tr>\n",
       "      <th>4</th>\n",
       "      <td>file:/Users/louisrageot/Desktop/OC DS/Projet 8...</td>\n",
       "      <td>Lemon</td>\n",
       "      <td>[0.0, 0.0, 0.0, 0.0, 0.0, 0.0, 0.0, 0.0, 0.0, ...</td>\n",
       "      <td>[0.0, 0.0, 0.0, 0.0, 0.0, 0.0, -0.294306426029...</td>\n",
       "      <td>[-22.595209337334342, -8.003590800604327, -6.5...</td>\n",
       "    </tr>\n",
       "    <tr>\n",
       "      <th>5</th>\n",
       "      <td>file:/Users/louisrageot/Desktop/OC DS/Projet 8...</td>\n",
       "      <td>Passion Fruit</td>\n",
       "      <td>[0.0, 0.0, 0.0, 0.0, 0.0, 0.0, 0.0, 0.0, 0.0, ...</td>\n",
       "      <td>[0.0, 0.0, 0.0, 0.0, 0.0, 0.0, -0.294306426029...</td>\n",
       "      <td>[-35.26794662550657, -44.4339570990333, -32.19...</td>\n",
       "    </tr>\n",
       "    <tr>\n",
       "      <th>6</th>\n",
       "      <td>file:/Users/louisrageot/Desktop/OC DS/Projet 8...</td>\n",
       "      <td>Lemon</td>\n",
       "      <td>[0.0, 0.0, 0.0, 0.0, 0.0, 0.0, 0.0, 0.0, 0.0, ...</td>\n",
       "      <td>[0.0, 0.0, 0.0, 0.0, 0.0, 0.0, -0.294306426029...</td>\n",
       "      <td>[-21.01587263327699, -26.503731488079087, -10....</td>\n",
       "    </tr>\n",
       "    <tr>\n",
       "      <th>7</th>\n",
       "      <td>file:/Users/louisrageot/Desktop/OC DS/Projet 8...</td>\n",
       "      <td>Apple Granny Smith</td>\n",
       "      <td>[0.0, 0.0, 0.0, 0.0, 0.0, 0.0, 0.2869446277618...</td>\n",
       "      <td>[0.0, 0.0, 0.0, 0.0, 0.0, 0.0, 3.4576176667892...</td>\n",
       "      <td>[-45.69811694700323, 32.90373626666951, -61.05...</td>\n",
       "    </tr>\n",
       "    <tr>\n",
       "      <th>8</th>\n",
       "      <td>file:/Users/louisrageot/Desktop/OC DS/Projet 8...</td>\n",
       "      <td>Apple Granny Smith</td>\n",
       "      <td>[0.0, 0.0, 0.0, 0.0, 0.0, 0.0, 0.0, 0.0, 0.0, ...</td>\n",
       "      <td>[0.0, 0.0, 0.0, 0.0, 0.0, 0.0, -0.294306426029...</td>\n",
       "      <td>[-22.080669420196838, -31.754589857274095, -29...</td>\n",
       "    </tr>\n",
       "    <tr>\n",
       "      <th>9</th>\n",
       "      <td>file:/Users/louisrageot/Desktop/OC DS/Projet 8...</td>\n",
       "      <td>Grape Blue</td>\n",
       "      <td>[0.0, 0.0, 0.0, 0.0, 0.0, 0.0, 0.0, 0.0, 0.0, ...</td>\n",
       "      <td>[0.0, 0.0, 0.0, 0.0, 0.0, 0.0, -0.294306426029...</td>\n",
       "      <td>[-32.76640197157613, -46.222856792210074, -29....</td>\n",
       "    </tr>\n",
       "    <tr>\n",
       "      <th>10</th>\n",
       "      <td>file:/Users/louisrageot/Desktop/OC DS/Projet 8...</td>\n",
       "      <td>Cherry 1</td>\n",
       "      <td>[0.0, 0.0, 0.0, 0.0, 0.0, 0.0, 0.0, 0.0, 0.0, ...</td>\n",
       "      <td>[0.0, 0.0, 0.0, 0.0, 0.0, 0.0, -0.294306426029...</td>\n",
       "      <td>[-31.846223657980893, -20.991948585334413, -16...</td>\n",
       "    </tr>\n",
       "    <tr>\n",
       "      <th>11</th>\n",
       "      <td>file:/Users/louisrageot/Desktop/OC DS/Projet 8...</td>\n",
       "      <td>Grape Blue</td>\n",
       "      <td>[0.0, 0.0, 0.0, 0.0, 0.0, 0.0, 0.0, 0.0, 0.0, ...</td>\n",
       "      <td>[0.0, 0.0, 0.0, 0.0, 0.0, 0.0, -0.294306426029...</td>\n",
       "      <td>[-31.999184035969314, -40.27672923624109, -27....</td>\n",
       "    </tr>\n",
       "    <tr>\n",
       "      <th>12</th>\n",
       "      <td>file:/Users/louisrageot/Desktop/OC DS/Projet 8...</td>\n",
       "      <td>Banana</td>\n",
       "      <td>[0.0, 0.0, 0.0, 0.0, 0.0, 0.0, 0.0281723737716...</td>\n",
       "      <td>[0.0, 0.0, 0.0, 0.0, 0.0, 0.0, 0.0740594455681...</td>\n",
       "      <td>[326.13184625395115, 9.822372408885789, -58.38...</td>\n",
       "    </tr>\n",
       "    <tr>\n",
       "      <th>13</th>\n",
       "      <td>file:/Users/louisrageot/Desktop/OC DS/Projet 8...</td>\n",
       "      <td>Banana</td>\n",
       "      <td>[0.0, 0.0, 0.0, 0.0, 0.0, 0.0, 0.0, 0.0, 0.0, ...</td>\n",
       "      <td>[0.0, 0.0, 0.0, 0.0, 0.0, 0.0, -0.294306426029...</td>\n",
       "      <td>[43.29113470679928, -68.9658564835711, 258.720...</td>\n",
       "    </tr>\n",
       "  </tbody>\n",
       "</table>\n",
       "</div>"
      ],
      "text/plain": [
       "                                                 path               fruit  \\\n",
       "0   file:/Users/louisrageot/Desktop/OC DS/Projet 8...    Strawberry Wedge   \n",
       "1   file:/Users/louisrageot/Desktop/OC DS/Projet 8...    Strawberry Wedge   \n",
       "2   file:/Users/louisrageot/Desktop/OC DS/Projet 8...       Passion Fruit   \n",
       "3   file:/Users/louisrageot/Desktop/OC DS/Projet 8...            Cherry 1   \n",
       "4   file:/Users/louisrageot/Desktop/OC DS/Projet 8...               Lemon   \n",
       "5   file:/Users/louisrageot/Desktop/OC DS/Projet 8...       Passion Fruit   \n",
       "6   file:/Users/louisrageot/Desktop/OC DS/Projet 8...               Lemon   \n",
       "7   file:/Users/louisrageot/Desktop/OC DS/Projet 8...  Apple Granny Smith   \n",
       "8   file:/Users/louisrageot/Desktop/OC DS/Projet 8...  Apple Granny Smith   \n",
       "9   file:/Users/louisrageot/Desktop/OC DS/Projet 8...          Grape Blue   \n",
       "10  file:/Users/louisrageot/Desktop/OC DS/Projet 8...            Cherry 1   \n",
       "11  file:/Users/louisrageot/Desktop/OC DS/Projet 8...          Grape Blue   \n",
       "12  file:/Users/louisrageot/Desktop/OC DS/Projet 8...              Banana   \n",
       "13  file:/Users/louisrageot/Desktop/OC DS/Projet 8...              Banana   \n",
       "\n",
       "                                             features  \\\n",
       "0   [0.0, 0.0, 0.0, 0.0, 0.0, 0.0, 0.0, 0.0, 0.0, ...   \n",
       "1   [0.0, 0.0, 0.0, 0.0, 0.0, 0.0, 0.0, 0.0, 0.0, ...   \n",
       "2   [0.0, 0.0, 0.0, 0.0, 0.0, 0.0, 0.0, 0.0, 0.0, ...   \n",
       "3   [0.0, 0.0, 0.0, 0.0, 0.0, 0.0, 0.0, 0.0, 0.0, ...   \n",
       "4   [0.0, 0.0, 0.0, 0.0, 0.0, 0.0, 0.0, 0.0, 0.0, ...   \n",
       "5   [0.0, 0.0, 0.0, 0.0, 0.0, 0.0, 0.0, 0.0, 0.0, ...   \n",
       "6   [0.0, 0.0, 0.0, 0.0, 0.0, 0.0, 0.0, 0.0, 0.0, ...   \n",
       "7   [0.0, 0.0, 0.0, 0.0, 0.0, 0.0, 0.2869446277618...   \n",
       "8   [0.0, 0.0, 0.0, 0.0, 0.0, 0.0, 0.0, 0.0, 0.0, ...   \n",
       "9   [0.0, 0.0, 0.0, 0.0, 0.0, 0.0, 0.0, 0.0, 0.0, ...   \n",
       "10  [0.0, 0.0, 0.0, 0.0, 0.0, 0.0, 0.0, 0.0, 0.0, ...   \n",
       "11  [0.0, 0.0, 0.0, 0.0, 0.0, 0.0, 0.0, 0.0, 0.0, ...   \n",
       "12  [0.0, 0.0, 0.0, 0.0, 0.0, 0.0, 0.0281723737716...   \n",
       "13  [0.0, 0.0, 0.0, 0.0, 0.0, 0.0, 0.0, 0.0, 0.0, ...   \n",
       "\n",
       "                                      features_scaled  \\\n",
       "0   [0.0, 0.0, 0.0, 0.0, 0.0, 0.0, -0.294306426029...   \n",
       "1   [0.0, 0.0, 0.0, 0.0, 0.0, 0.0, -0.294306426029...   \n",
       "2   [0.0, 0.0, 0.0, 0.0, 0.0, 0.0, -0.294306426029...   \n",
       "3   [0.0, 0.0, 0.0, 0.0, 0.0, 0.0, -0.294306426029...   \n",
       "4   [0.0, 0.0, 0.0, 0.0, 0.0, 0.0, -0.294306426029...   \n",
       "5   [0.0, 0.0, 0.0, 0.0, 0.0, 0.0, -0.294306426029...   \n",
       "6   [0.0, 0.0, 0.0, 0.0, 0.0, 0.0, -0.294306426029...   \n",
       "7   [0.0, 0.0, 0.0, 0.0, 0.0, 0.0, 3.4576176667892...   \n",
       "8   [0.0, 0.0, 0.0, 0.0, 0.0, 0.0, -0.294306426029...   \n",
       "9   [0.0, 0.0, 0.0, 0.0, 0.0, 0.0, -0.294306426029...   \n",
       "10  [0.0, 0.0, 0.0, 0.0, 0.0, 0.0, -0.294306426029...   \n",
       "11  [0.0, 0.0, 0.0, 0.0, 0.0, 0.0, -0.294306426029...   \n",
       "12  [0.0, 0.0, 0.0, 0.0, 0.0, 0.0, 0.0740594455681...   \n",
       "13  [0.0, 0.0, 0.0, 0.0, 0.0, 0.0, -0.294306426029...   \n",
       "\n",
       "                                          pcaFeatures  \n",
       "0   [-21.63525215289909, 69.6794680535544, 21.3410...  \n",
       "1   [-26.000399718868877, 252.1703857897934, 45.55...  \n",
       "2   [-33.42990599128716, -53.087411142709804, -21....  \n",
       "3   [-45.087798468849925, -24.3352910338139, -31.9...  \n",
       "4   [-22.595209337334342, -8.003590800604327, -6.5...  \n",
       "5   [-35.26794662550657, -44.4339570990333, -32.19...  \n",
       "6   [-21.01587263327699, -26.503731488079087, -10....  \n",
       "7   [-45.69811694700323, 32.90373626666951, -61.05...  \n",
       "8   [-22.080669420196838, -31.754589857274095, -29...  \n",
       "9   [-32.76640197157613, -46.222856792210074, -29....  \n",
       "10  [-31.846223657980893, -20.991948585334413, -16...  \n",
       "11  [-31.999184035969314, -40.27672923624109, -27....  \n",
       "12  [326.13184625395115, 9.822372408885789, -58.38...  \n",
       "13  [43.29113470679928, -68.9658564835711, 258.720...  "
      ]
     },
     "execution_count": 31,
     "metadata": {},
     "output_type": "execute_result"
    }
   ],
   "source": [
    "result_pandas"
   ]
  },
  {
   "cell_type": "code",
   "execution_count": 76,
   "id": "4c67a44c",
   "metadata": {
    "ExecuteTime": {
     "end_time": "2022-02-22T17:10:02.302734Z",
     "start_time": "2022-02-22T17:10:01.238231Z"
    }
   },
   "outputs": [],
   "source": [
    "result_pandas.to_csv('results_pandas.csv')"
   ]
  },
  {
   "cell_type": "code",
   "execution_count": null,
   "id": "d2c3d013",
   "metadata": {},
   "outputs": [],
   "source": []
  },
  {
   "cell_type": "code",
   "execution_count": null,
   "id": "98925979",
   "metadata": {},
   "outputs": [],
   "source": []
  },
  {
   "cell_type": "code",
   "execution_count": null,
   "id": "5543ec60",
   "metadata": {},
   "outputs": [],
   "source": []
  },
  {
   "cell_type": "code",
   "execution_count": null,
   "id": "c26a7955",
   "metadata": {},
   "outputs": [],
   "source": []
  },
  {
   "cell_type": "code",
   "execution_count": null,
   "id": "c7f30bf3",
   "metadata": {},
   "outputs": [],
   "source": []
  },
  {
   "cell_type": "code",
   "execution_count": null,
   "id": "05a431e9",
   "metadata": {},
   "outputs": [],
   "source": []
  },
  {
   "cell_type": "code",
   "execution_count": null,
   "id": "e61e22ab",
   "metadata": {},
   "outputs": [],
   "source": []
  },
  {
   "cell_type": "code",
   "execution_count": null,
   "id": "1da0d505",
   "metadata": {},
   "outputs": [],
   "source": []
  },
  {
   "cell_type": "code",
   "execution_count": null,
   "id": "6cc6de0b",
   "metadata": {},
   "outputs": [],
   "source": []
  },
  {
   "cell_type": "code",
   "execution_count": null,
   "id": "1a3228f3",
   "metadata": {},
   "outputs": [],
   "source": []
  },
  {
   "cell_type": "code",
   "execution_count": null,
   "id": "a9a5da4c",
   "metadata": {},
   "outputs": [],
   "source": []
  },
  {
   "cell_type": "code",
   "execution_count": null,
   "id": "4e01b260",
   "metadata": {},
   "outputs": [],
   "source": []
  },
  {
   "cell_type": "code",
   "execution_count": null,
   "id": "71668ebc",
   "metadata": {},
   "outputs": [],
   "source": []
  },
  {
   "cell_type": "code",
   "execution_count": null,
   "id": "11f9e68b",
   "metadata": {},
   "outputs": [],
   "source": []
  }
 ],
 "metadata": {
  "kernelspec": {
   "display_name": "Python [conda env:vir_env] *",
   "language": "python",
   "name": "conda-env-vir_env-py"
  },
  "language_info": {
   "codemirror_mode": {
    "name": "ipython",
    "version": 3
   },
   "file_extension": ".py",
   "mimetype": "text/x-python",
   "name": "python",
   "nbconvert_exporter": "python",
   "pygments_lexer": "ipython3",
   "version": "3.9.10"
  },
  "toc": {
   "base_numbering": 1,
   "nav_menu": {},
   "number_sections": true,
   "sideBar": true,
   "skip_h1_title": false,
   "title_cell": "Table of Contents",
   "title_sidebar": "Contents",
   "toc_cell": true,
   "toc_position": {},
   "toc_section_display": true,
   "toc_window_display": true
  }
 },
 "nbformat": 4,
 "nbformat_minor": 5
}
